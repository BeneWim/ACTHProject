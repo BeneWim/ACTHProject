{
  "cells": [
    {
      "cell_type": "markdown",
      "metadata": {
        "colab_type": "text",
        "id": "view-in-github"
      },
      "source": [
        "<a href=\"https://colab.research.google.com/github/BeneWim/ACTHProject/blob/Moritz/collection.ipynb\" target=\"_parent\"><img src=\"https://colab.research.google.com/assets/colab-badge.svg\" alt=\"Open In Colab\"/></a>"
      ]
    },
    {
      "cell_type": "code",
      "execution_count": null,
      "metadata": {},
      "outputs": [
        {
          "name": "stdout",
          "output_type": "stream",
          "text": [
            "Requirement already satisfied: pandas in c:\\users\\mobai\\acthproject\\.venv\\lib\\site-packages (2.3.1)\n",
            "Requirement already satisfied: numpy>=1.26.0 in c:\\users\\mobai\\acthproject\\.venv\\lib\\site-packages (from pandas) (2.3.1)\n",
            "Requirement already satisfied: python-dateutil>=2.8.2 in c:\\users\\mobai\\acthproject\\.venv\\lib\\site-packages (from pandas) (2.9.0.post0)\n",
            "Requirement already satisfied: pytz>=2020.1 in c:\\users\\mobai\\acthproject\\.venv\\lib\\site-packages (from pandas) (2025.2)\n",
            "Requirement already satisfied: tzdata>=2022.7 in c:\\users\\mobai\\acthproject\\.venv\\lib\\site-packages (from pandas) (2025.2)\n",
            "Requirement already satisfied: six>=1.5 in c:\\users\\mobai\\acthproject\\.venv\\lib\\site-packages (from python-dateutil>=2.8.2->pandas) (1.17.0)\n",
            "Requirement already satisfied: rdflib in c:\\users\\mobai\\acthproject\\.venv\\lib\\site-packages (7.1.4)\n",
            "Requirement already satisfied: pyparsing<4,>=2.1.0 in c:\\users\\mobai\\acthproject\\.venv\\lib\\site-packages (from rdflib) (3.2.3)\n",
            "Collecting SPARQLWrapper\n",
            "  Downloading SPARQLWrapper-2.0.0-py3-none-any.whl.metadata (2.0 kB)\n",
            "Requirement already satisfied: rdflib>=6.1.1 in c:\\users\\mobai\\acthproject\\.venv\\lib\\site-packages (from SPARQLWrapper) (7.1.4)\n",
            "Requirement already satisfied: pyparsing<4,>=2.1.0 in c:\\users\\mobai\\acthproject\\.venv\\lib\\site-packages (from rdflib>=6.1.1->SPARQLWrapper) (3.2.3)\n",
            "Downloading SPARQLWrapper-2.0.0-py3-none-any.whl (28 kB)\n",
            "Installing collected packages: SPARQLWrapper\n",
            "Successfully installed SPARQLWrapper-2.0.0\n"
          ]
        }
      ],
      "source": [
        "# Setup: install panda\n",
        "!pip install pandas \n",
        "# Setup: install rdflib\n",
        "!pip install rdflib\n",
        "#Steup: install pyvis\n",
        "!pip install pyvis\n",
        "\n"
      ]
    },
    {
      "cell_type": "code",
      "execution_count": null,
      "metadata": {
        "id": "_R7y7tVAGJE7"
      },
      "outputs": [],
      "source": [
        "# importing external used un the different functions\n",
        "import pandas as pd\n",
        "import requests\n",
        "from rdflib import Graph, Namespace, RDF, RDFS, Literal\n",
        "from rdflib.namespace import RDF\n",
        "from pyvis.network import Network\n",
        "import random\n",
        "\n",
        "\n",
        "\n",
        "\n",
        "#onthologies for the \n",
        "CRM = Namespace(\"http://www.cidoc-crm.org/cidoc-crm/\") #creating a namespace object\n",
        "g.bind(\"crm\", CRM) # binding it to the graph so when we serialize it, it will use crm:something instead of the full namespace\n",
        "DC = Namespace(\"http://purl.org/dc/elements/1.1/\")\n",
        "g.bind(\"dc\", DC)\n",
        "FOAF = Namespace(\"<http://xmlns.com/foaf/0.1/\") \n",
        "g.bind(\"foaf\", FOAF)\n",
        "NS1 = Namespace(\"http://schema.org/\")\n",
        "g.bind(\"ns1\", NS1)\n",
        "XSD = Namespace(\"http://www.w3.org/2001/XMLSchema#\")\n",
        "g.bind(\"xsd\", XSD)\n",
        "W3 = Namespace(\"https://w3id.org/i40/sto\")\n",
        "g.bind(\"w3\", W3)\n",
        "EX = Namespace(\"http://w3id.org/example/\")\n",
        "g.bind(\"ex\", EX)\n",
        "\n",
        "\n",
        "#import of the other classes of the project\n",
        "from Classes.Artifact import Artifact\n",
        "from Classes.Artist import Artist\n",
        "\n",
        "\n",
        "def RDF_graph (Artist, Artifact):\n",
        "    \n",
        "    artist_rdfgraph = []\n",
        "    artifact_rdfgraph = []\n",
        "    institut_museum = []\n",
        "    id = []\n",
        "\n",
        "    g_rdf = Graph ()\n",
        "    '''\n",
        "if self.objectWikidataURL is None:\n",
        "            self.objectWikidataURL = (\n",
        "                f\"http://w3id.org/example/artifact/{self.title.replace(' ', '_')}\"\n",
        "            )\n",
        "        artifact_uri = URIRef(self.objectWikidataURL)\n",
        "\n",
        "        g.add((artifact_uri, RDF.type, CRM[\"E22_Man-Made_Object\"]))\n",
        "        g.add(\n",
        "            (\n",
        "                artifact_uri,\n",
        "                CRM.P4_has_time_span,\n",
        "                Literal(str(self.accessionYear), datatype=XSD.gYear),\n",
        "            )\n",
        "        )\n",
        "        g.add((artifact_uri, DC.title, Literal(self.title)))\n",
        "        g.add((artifact_uri, CRM.P45_consists_of, Literal(self.medium)))\n",
        "        g.add((artifact_uri, CRM.P2_has_type, Literal(self.objectName)))\n",
        "        g.add(\n",
        "            (\n",
        "                artifact_uri,\n",
        "                CRM.P107i_is_current_or_former_member_of,\n",
        "                Literal(self.department),\n",
        "            )\n",
        "        )\n",
        "\n",
        "        if isinstance(self.tags, list):\n",
        "            for tag in self.tags:\n",
        "                g.add((artifact_uri, CRM.P2_has_type, Literal(tag)))\n",
        "\n",
        "        if isinstance(self.tagsWikidataURL, list):\n",
        "            for url in self.tagsWikidataURL:\n",
        "                g.add((artifact_uri, W3.hasWikidataEntity, URIRef(url)))\n",
        "\n",
        "        if self.enriched_tags:\n",
        "            for url, value in self.enriched_tags:\n",
        "                g.add((URIRef(url), RDFS.comment, Literal(value)))\n",
        "                '''\n",
        "    for artist in Artist:  \n",
        "        g_rdf.add((artist_uri, RDF.type, CRM[\"E20_Person\"])) #adds triples using the ontologies\n",
        "        g_rdf.add((artist.uri, DC.))\n",
        "        g_rdf.add((artist_uri, FOAF.name, Literal(Classes.Artist.display_name)))\n",
        "        g_rdf.add((artist_uri, Schema.nationality, Literal(Classes.Artist.nationality)))\n",
        "    \n",
        "\n",
        "\n",
        "    net = Network(height=\"750px\", width=\"100%\", directed=True)\n",
        "    for s, p, o in g:\n",
        "        s_label = s.split(\"/\")[-1]\n",
        "        o_label = o.split(\"/\")[-1] if isinstance(o, Namespace) or isinstance(o, str) else str(o)\n",
        "        p_label = p.split(\"/\")[-1]\n",
        "        net.add_node(s_label, label=s_label)\n",
        "        net.add_node(o_label, label=o_label)\n",
        "        net.add_edge(s_label, o_label, label=p_label)\n",
        "\n",
        "    net.write_html(\"basic_graph.html\") # save the graph"
      ]
    }
  ],
  "metadata": {
    "colab": {
      "authorship_tag": "ABX9TyMOX2vpVi6DP/ReJ9Z595iR",
      "include_colab_link": true,
      "provenance": []
    },
    "kernelspec": {
      "display_name": ".venv",
      "language": "python",
      "name": "python3"
    },
    "language_info": {
      "codemirror_mode": {
        "name": "ipython",
        "version": 3
      },
      "file_extension": ".py",
      "mimetype": "text/x-python",
      "name": "python",
      "nbconvert_exporter": "python",
      "pygments_lexer": "ipython3",
      "version": "3.13.5"
    }
  },
  "nbformat": 4,
  "nbformat_minor": 0
}
