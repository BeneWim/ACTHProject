{
 "cells": [
  {
   "cell_type": "code",
   "execution_count": 5,
   "id": "25c1e057",
   "metadata": {},
   "outputs": [
    {
     "name": "stdout",
     "output_type": "stream",
     "text": [
      "The autoreload extension is already loaded. To reload it, use:\n",
      "  %reload_ext autoreload\n"
     ]
    }
   ],
   "source": [
    "%load_ext autoreload\n",
    "%autoreload 2\n",
    "\n",
    "import pandas as pd\n",
    "\n",
    "from Classes.Artifact import Artifact\n",
    "from Classes.Artist import Artist\n",
    "from Classes.Collection import Collection"
   ]
  },
  {
   "cell_type": "code",
   "execution_count": 6,
   "id": "be9a31b8",
   "metadata": {},
   "outputs": [],
   "source": [
    "df = pd.read_csv(\"../Data/MetObjects_Cleaned.csv\", low_memory=False)"
   ]
  },
  {
   "cell_type": "code",
   "execution_count": 7,
   "id": "049e7a94",
   "metadata": {},
   "outputs": [
    {
     "data": {
      "application/vnd.microsoft.datawrangler.viewer.v0+json": {
       "columns": [
        {
         "name": "index",
         "rawType": "int64",
         "type": "integer"
        },
        {
         "name": "Unnamed: 0",
         "rawType": "int64",
         "type": "integer"
        },
        {
         "name": "Object ID",
         "rawType": "int64",
         "type": "integer"
        },
        {
         "name": "Department",
         "rawType": "object",
         "type": "string"
        },
        {
         "name": "AccessionYear",
         "rawType": "object",
         "type": "string"
        },
        {
         "name": "Object Name",
         "rawType": "object",
         "type": "string"
        },
        {
         "name": "Title",
         "rawType": "object",
         "type": "string"
        },
        {
         "name": "Culture",
         "rawType": "object",
         "type": "string"
        },
        {
         "name": "Period",
         "rawType": "object",
         "type": "string"
        },
        {
         "name": "Medium",
         "rawType": "object",
         "type": "string"
        },
        {
         "name": "Classification",
         "rawType": "object",
         "type": "string"
        },
        {
         "name": "Credit Line",
         "rawType": "object",
         "type": "string"
        },
        {
         "name": "Object Wikidata URL",
         "rawType": "object",
         "type": "unknown"
        },
        {
         "name": "Tags",
         "rawType": "object",
         "type": "unknown"
        },
        {
         "name": "Tags AAT URL",
         "rawType": "object",
         "type": "unknown"
        },
        {
         "name": "Tags Wikidata URL",
         "rawType": "object",
         "type": "unknown"
        },
        {
         "name": "Artist Display Name",
         "rawType": "object",
         "type": "unknown"
        },
        {
         "name": "Artist Wikidata URL",
         "rawType": "object",
         "type": "unknown"
        },
        {
         "name": "Artist ULAN URL",
         "rawType": "object",
         "type": "unknown"
        },
        {
         "name": "Artist Nationality",
         "rawType": "object",
         "type": "unknown"
        },
        {
         "name": "Dimensions",
         "rawType": "object",
         "type": "string"
        },
        {
         "name": "first_cm_raw",
         "rawType": "object",
         "type": "string"
        },
        {
         "name": "cm_value",
         "rawType": "float64",
         "type": "float"
        }
       ],
       "ref": "e658edcb-9373-43f8-8e1a-25224d979858",
       "rows": [
        [
         "0",
         "139012",
         "239584",
         "Greek and Roman Art",
         "1870-01-01",
         "Sarcophagus, garland",
         "Marble sarcophagus with garlands",
         "Roman",
         "Severan",
         "Marble, Proconnesian",
         "Stone Sculpture",
         "Gift of Abdo Debbas, 1870",
         "https://www.wikidata.org/wiki/Q29383708",
         "['Animals', 'Garlands', 'Hunting', 'Medusa']",
         "['http://vocab.getty.edu/page/aat/300249525', 'http://vocab.getty.edu/page/aat/300167386', 'http://vocab.getty.edu/page/aat/300239666', 'http://vocab.getty.edu/page/ia/901000543']",
         "['https://www.wikidata.org/wiki/Q729', 'https://www.wikidata.org/wiki/Q756600', 'https://www.wikidata.org/wiki/Q36963', 'https://www.wikidata.org/wiki/Q160730']",
         null,
         null,
         null,
         null,
         "Overall: 53 x 88in. (134.6 x 223.5cm)          \r\n",
         "134.6 x 223.5cm",
         null
        ],
        [
         "1",
         "139013",
         "239585",
         "Greek and Roman Art",
         "1874-01-01",
         "Pendant in the form of a vase",
         "Pendant in the form of a vase",
         "Greek",
         "Classical",
         "Gold",
         "Gold and Silver",
         "The Cesnola Collection, Purchased by subscription, 1874–76",
         "https://www.wikidata.org/wiki/Q116305682",
         null,
         null,
         null,
         null,
         null,
         null,
         null,
         "Other: 9/16 in. (1.4 cm)",
         "1.4 cm",
         "1.4"
        ],
        [
         "2",
         "139014",
         "239586",
         "Greek and Roman Art",
         "1874-01-01",
         "Bead",
         "Glass bead",
         "Greek",
         "Hellenistic",
         "Glass",
         "Glass",
         "The Cesnola Collection, Purchased by subscription, 1874–76",
         null,
         null,
         null,
         null,
         null,
         null,
         null,
         null,
         "L.: 1 in. (2.4 cm)\r\nDiam.:  3/8 in. (1.0 cm)",
         "2.4 cm",
         "2.4"
        ],
        [
         "3",
         "139015",
         "239587",
         "Greek and Roman Art",
         "1874-01-01",
         "Perfume bottle",
         "Glass perfume bottle",
         "Roman, Cypriot",
         "Mid Imperial",
         "Glass",
         "Glass",
         "The Cesnola Collection, Purchased by subscription, 1874–76",
         null,
         null,
         null,
         null,
         null,
         null,
         null,
         null,
         "6 5/8in. (16.8cm)\r\nOther: 3 5/8in. (9.2cm)\r\nDiam. of rim: 1 11/16 in. (4.3 cm)",
         "16.8cm",
         "16.8"
        ],
        [
         "4",
         "139016",
         "239588",
         "Greek and Roman Art",
         "1874-01-01",
         "Bead",
         "Glass eye bead",
         "Phoenician, Cypriot",
         "Archaic or Classical",
         "Glass",
         "Glass",
         "The Cesnola Collection, Purchased by subscription, 1874–76",
         null,
         null,
         null,
         null,
         null,
         null,
         null,
         null,
         "L.: 3/8 in. (1 cm)\r\nDiam.:  15/16 in. (0.9 cm)",
         "1 cm",
         "1.0"
        ]
       ],
       "shape": {
        "columns": 22,
        "rows": 5
       }
      },
      "text/html": [
       "<div>\n",
       "<style scoped>\n",
       "    .dataframe tbody tr th:only-of-type {\n",
       "        vertical-align: middle;\n",
       "    }\n",
       "\n",
       "    .dataframe tbody tr th {\n",
       "        vertical-align: top;\n",
       "    }\n",
       "\n",
       "    .dataframe thead th {\n",
       "        text-align: right;\n",
       "    }\n",
       "</style>\n",
       "<table border=\"1\" class=\"dataframe\">\n",
       "  <thead>\n",
       "    <tr style=\"text-align: right;\">\n",
       "      <th></th>\n",
       "      <th>Unnamed: 0</th>\n",
       "      <th>Object ID</th>\n",
       "      <th>Department</th>\n",
       "      <th>AccessionYear</th>\n",
       "      <th>Object Name</th>\n",
       "      <th>Title</th>\n",
       "      <th>Culture</th>\n",
       "      <th>Period</th>\n",
       "      <th>Medium</th>\n",
       "      <th>Classification</th>\n",
       "      <th>...</th>\n",
       "      <th>Tags</th>\n",
       "      <th>Tags AAT URL</th>\n",
       "      <th>Tags Wikidata URL</th>\n",
       "      <th>Artist Display Name</th>\n",
       "      <th>Artist Wikidata URL</th>\n",
       "      <th>Artist ULAN URL</th>\n",
       "      <th>Artist Nationality</th>\n",
       "      <th>Dimensions</th>\n",
       "      <th>first_cm_raw</th>\n",
       "      <th>cm_value</th>\n",
       "    </tr>\n",
       "  </thead>\n",
       "  <tbody>\n",
       "    <tr>\n",
       "      <th>0</th>\n",
       "      <td>139012</td>\n",
       "      <td>239584</td>\n",
       "      <td>Greek and Roman Art</td>\n",
       "      <td>1870-01-01</td>\n",
       "      <td>Sarcophagus, garland</td>\n",
       "      <td>Marble sarcophagus with garlands</td>\n",
       "      <td>Roman</td>\n",
       "      <td>Severan</td>\n",
       "      <td>Marble, Proconnesian</td>\n",
       "      <td>Stone Sculpture</td>\n",
       "      <td>...</td>\n",
       "      <td>['Animals', 'Garlands', 'Hunting', 'Medusa']</td>\n",
       "      <td>['http://vocab.getty.edu/page/aat/300249525', ...</td>\n",
       "      <td>['https://www.wikidata.org/wiki/Q729', 'https:...</td>\n",
       "      <td>NaN</td>\n",
       "      <td>NaN</td>\n",
       "      <td>NaN</td>\n",
       "      <td>NaN</td>\n",
       "      <td>Overall: 53 x 88in. (134.6 x 223.5cm)         ...</td>\n",
       "      <td>134.6 x 223.5cm</td>\n",
       "      <td>NaN</td>\n",
       "    </tr>\n",
       "    <tr>\n",
       "      <th>1</th>\n",
       "      <td>139013</td>\n",
       "      <td>239585</td>\n",
       "      <td>Greek and Roman Art</td>\n",
       "      <td>1874-01-01</td>\n",
       "      <td>Pendant in the form of a vase</td>\n",
       "      <td>Pendant in the form of a vase</td>\n",
       "      <td>Greek</td>\n",
       "      <td>Classical</td>\n",
       "      <td>Gold</td>\n",
       "      <td>Gold and Silver</td>\n",
       "      <td>...</td>\n",
       "      <td>NaN</td>\n",
       "      <td>NaN</td>\n",
       "      <td>NaN</td>\n",
       "      <td>NaN</td>\n",
       "      <td>NaN</td>\n",
       "      <td>NaN</td>\n",
       "      <td>NaN</td>\n",
       "      <td>Other: 9/16 in. (1.4 cm)</td>\n",
       "      <td>1.4 cm</td>\n",
       "      <td>1.4</td>\n",
       "    </tr>\n",
       "    <tr>\n",
       "      <th>2</th>\n",
       "      <td>139014</td>\n",
       "      <td>239586</td>\n",
       "      <td>Greek and Roman Art</td>\n",
       "      <td>1874-01-01</td>\n",
       "      <td>Bead</td>\n",
       "      <td>Glass bead</td>\n",
       "      <td>Greek</td>\n",
       "      <td>Hellenistic</td>\n",
       "      <td>Glass</td>\n",
       "      <td>Glass</td>\n",
       "      <td>...</td>\n",
       "      <td>NaN</td>\n",
       "      <td>NaN</td>\n",
       "      <td>NaN</td>\n",
       "      <td>NaN</td>\n",
       "      <td>NaN</td>\n",
       "      <td>NaN</td>\n",
       "      <td>NaN</td>\n",
       "      <td>L.: 1 in. (2.4 cm)\\r\\nDiam.:  3/8 in. (1.0 cm)</td>\n",
       "      <td>2.4 cm</td>\n",
       "      <td>2.4</td>\n",
       "    </tr>\n",
       "    <tr>\n",
       "      <th>3</th>\n",
       "      <td>139015</td>\n",
       "      <td>239587</td>\n",
       "      <td>Greek and Roman Art</td>\n",
       "      <td>1874-01-01</td>\n",
       "      <td>Perfume bottle</td>\n",
       "      <td>Glass perfume bottle</td>\n",
       "      <td>Roman, Cypriot</td>\n",
       "      <td>Mid Imperial</td>\n",
       "      <td>Glass</td>\n",
       "      <td>Glass</td>\n",
       "      <td>...</td>\n",
       "      <td>NaN</td>\n",
       "      <td>NaN</td>\n",
       "      <td>NaN</td>\n",
       "      <td>NaN</td>\n",
       "      <td>NaN</td>\n",
       "      <td>NaN</td>\n",
       "      <td>NaN</td>\n",
       "      <td>6 5/8in. (16.8cm)\\r\\nOther: 3 5/8in. (9.2cm)\\r...</td>\n",
       "      <td>16.8cm</td>\n",
       "      <td>16.8</td>\n",
       "    </tr>\n",
       "    <tr>\n",
       "      <th>4</th>\n",
       "      <td>139016</td>\n",
       "      <td>239588</td>\n",
       "      <td>Greek and Roman Art</td>\n",
       "      <td>1874-01-01</td>\n",
       "      <td>Bead</td>\n",
       "      <td>Glass eye bead</td>\n",
       "      <td>Phoenician, Cypriot</td>\n",
       "      <td>Archaic or Classical</td>\n",
       "      <td>Glass</td>\n",
       "      <td>Glass</td>\n",
       "      <td>...</td>\n",
       "      <td>NaN</td>\n",
       "      <td>NaN</td>\n",
       "      <td>NaN</td>\n",
       "      <td>NaN</td>\n",
       "      <td>NaN</td>\n",
       "      <td>NaN</td>\n",
       "      <td>NaN</td>\n",
       "      <td>L.: 3/8 in. (1 cm)\\r\\nDiam.:  15/16 in. (0.9 cm)</td>\n",
       "      <td>1 cm</td>\n",
       "      <td>1.0</td>\n",
       "    </tr>\n",
       "  </tbody>\n",
       "</table>\n",
       "<p>5 rows × 22 columns</p>\n",
       "</div>"
      ],
      "text/plain": [
       "   Unnamed: 0  Object ID           Department AccessionYear  \\\n",
       "0      139012     239584  Greek and Roman Art    1870-01-01   \n",
       "1      139013     239585  Greek and Roman Art    1874-01-01   \n",
       "2      139014     239586  Greek and Roman Art    1874-01-01   \n",
       "3      139015     239587  Greek and Roman Art    1874-01-01   \n",
       "4      139016     239588  Greek and Roman Art    1874-01-01   \n",
       "\n",
       "                     Object Name                             Title  \\\n",
       "0           Sarcophagus, garland  Marble sarcophagus with garlands   \n",
       "1  Pendant in the form of a vase     Pendant in the form of a vase   \n",
       "2                           Bead                        Glass bead   \n",
       "3                 Perfume bottle              Glass perfume bottle   \n",
       "4                           Bead                    Glass eye bead   \n",
       "\n",
       "               Culture                Period                Medium  \\\n",
       "0                Roman               Severan  Marble, Proconnesian   \n",
       "1                Greek             Classical                  Gold   \n",
       "2                Greek           Hellenistic                 Glass   \n",
       "3       Roman, Cypriot          Mid Imperial                 Glass   \n",
       "4  Phoenician, Cypriot  Archaic or Classical                 Glass   \n",
       "\n",
       "    Classification  ...                                          Tags  \\\n",
       "0  Stone Sculpture  ...  ['Animals', 'Garlands', 'Hunting', 'Medusa']   \n",
       "1  Gold and Silver  ...                                           NaN   \n",
       "2            Glass  ...                                           NaN   \n",
       "3            Glass  ...                                           NaN   \n",
       "4            Glass  ...                                           NaN   \n",
       "\n",
       "                                        Tags AAT URL  \\\n",
       "0  ['http://vocab.getty.edu/page/aat/300249525', ...   \n",
       "1                                                NaN   \n",
       "2                                                NaN   \n",
       "3                                                NaN   \n",
       "4                                                NaN   \n",
       "\n",
       "                                   Tags Wikidata URL Artist Display Name  \\\n",
       "0  ['https://www.wikidata.org/wiki/Q729', 'https:...                 NaN   \n",
       "1                                                NaN                 NaN   \n",
       "2                                                NaN                 NaN   \n",
       "3                                                NaN                 NaN   \n",
       "4                                                NaN                 NaN   \n",
       "\n",
       "  Artist Wikidata URL Artist ULAN URL Artist Nationality  \\\n",
       "0                 NaN             NaN                NaN   \n",
       "1                 NaN             NaN                NaN   \n",
       "2                 NaN             NaN                NaN   \n",
       "3                 NaN             NaN                NaN   \n",
       "4                 NaN             NaN                NaN   \n",
       "\n",
       "                                          Dimensions     first_cm_raw cm_value  \n",
       "0  Overall: 53 x 88in. (134.6 x 223.5cm)         ...  134.6 x 223.5cm      NaN  \n",
       "1                           Other: 9/16 in. (1.4 cm)           1.4 cm      1.4  \n",
       "2     L.: 1 in. (2.4 cm)\\r\\nDiam.:  3/8 in. (1.0 cm)           2.4 cm      2.4  \n",
       "3  6 5/8in. (16.8cm)\\r\\nOther: 3 5/8in. (9.2cm)\\r...           16.8cm     16.8  \n",
       "4   L.: 3/8 in. (1 cm)\\r\\nDiam.:  15/16 in. (0.9 cm)             1 cm      1.0  \n",
       "\n",
       "[5 rows x 22 columns]"
      ]
     },
     "execution_count": 7,
     "metadata": {},
     "output_type": "execute_result"
    }
   ],
   "source": [
    "df.head()"
   ]
  },
  {
   "cell_type": "code",
   "execution_count": 8,
   "id": "cc203063",
   "metadata": {},
   "outputs": [],
   "source": [
    "artifact = Artifact.from_dataframe(df, 1)"
   ]
  },
  {
   "cell_type": "code",
   "execution_count": 9,
   "id": "bbe7e3f1",
   "metadata": {},
   "outputs": [
    {
     "data": {
      "text/plain": [
       "('Pendant in the form of a vase', '1874-01-01')"
      ]
     },
     "execution_count": 9,
     "metadata": {},
     "output_type": "execute_result"
    }
   ],
   "source": [
    "artifact.objectName, artifact.accessionYear"
   ]
  }
 ],
 "metadata": {
  "kernelspec": {
   "display_name": ".venv",
   "language": "python",
   "name": "python3"
  },
  "language_info": {
   "codemirror_mode": {
    "name": "ipython",
    "version": 3
   },
   "file_extension": ".py",
   "mimetype": "text/x-python",
   "name": "python",
   "nbconvert_exporter": "python",
   "pygments_lexer": "ipython3",
   "version": "3.12.10"
  }
 },
 "nbformat": 4,
 "nbformat_minor": 5
}
