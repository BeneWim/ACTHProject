{
 "cells": [
  {
   "cell_type": "code",
   "execution_count": 4,
   "id": "e2a90e65",
   "metadata": {},
   "outputs": [],
   "source": [
    "from graphviz import Digraph"
   ]
  },
  {
   "cell_type": "code",
   "execution_count": 9,
   "id": "261ab97a",
   "metadata": {},
   "outputs": [
    {
     "data": {
      "text/plain": [
       "'ArtifactArtistUML.png'"
      ]
     },
     "execution_count": 9,
     "metadata": {},
     "output_type": "execute_result"
    }
   ],
   "source": [
    "uml = Digraph(name=\"ArtifactArtistUML\", format='png')\n",
    "uml.attr(rankdir='TB', splines='ortho')\n",
    "uml.attr('node', shape='record', style='filled', fillcolor='lightblue', fontname='Helvetica', fontsize='10')\n",
    "\n",
    "# Base class: Artifact\n",
    "uml.node(\"Artifact\", '''{\n",
    "Artifact|\n",
    "+ department: str\\\\l\n",
    "+ accessionYear: int\\\\l\n",
    "+ objectName: str\\\\l\n",
    "+ title: str\\\\l\n",
    "+ culture: str\\\\l\n",
    "+ period: str\\\\l\n",
    "+ medium: str\\\\l\n",
    "+ classification: str\\\\l\n",
    "+ creditLine: str\\\\l\n",
    "+ objectWikidataURL: str\\\\l\n",
    "+ tags: list\\\\l\n",
    "+ tagsAATURL: list\\\\l\n",
    "+ tagsWikidataURL: list\\\\l\n",
    "+ dimensions: str\\\\l\n",
    "+ cm_value: float\\\\l\n",
    "+ enriched_tags: list\\\\l\n",
    "|\n",
    "+ from_dataframe(df, index): Artifact\\\\l\n",
    "+ to_rdf(): Graph\\\\l\n",
    "+ print_rdf(): None\\\\l\n",
    "+ wikidata_enrich(): None\\\\l\n",
    "+ similar_artworks(limit): list\\\\l\n",
    "+ similiar_artworks_chicago(limit): list\\\\l\n",
    "+ similiar_artworks_cleveland(limit): list\\\\l\n",
    "}''')\n",
    "\n",
    "       \n",
    "# Subclass: ArtifactGreek\n",
    "uml.node(\"ArtifactGreek\", '''{\n",
    "ArtifactGreek|\n",
    "+ tags += \"Ancient Greece\"\\\\l\n",
    "+ tagsWikidataURL += Q11772\\\\l\n",
    "|\n",
    "+ __init__(...): None\\\\l\n",
    "}''')\n",
    "\n",
    "# Subclass: ArtifactRoman\n",
    "uml.node(\"ArtifactRoman\", '''{\n",
    "ArtifactRoman|\n",
    "+ tags += \"Roman Empire\"\\\\l\n",
    "+ tagsWikidataURL += Q2277\\\\l\n",
    "|\n",
    "+ __init__(...): None\\\\l\n",
    "}''')\n",
    "\n",
    "#Superclass: Artist\n",
    "uml.node('Artist', '''{\n",
    "Artist|\n",
    "+ display_name: str\\\\l\n",
    "+ nationality: str\\\\l\n",
    "+ wikidata_uri: str\\\\l\n",
    "+ date_of_birth: str\\\\l\n",
    "|\n",
    "+ to_rdf(): Graph\\\\l\n",
    "+ wikidata_enrich(): None\\\\l\n",
    "+ from_dataframe(df, index): Artist\\\\l\n",
    "}''')\n",
    "\n",
    "# Subclass: ArtistPainter\n",
    "uml.node('ArtistPainter', '''{\n",
    "ArtistPainter|\n",
    "+ specialization = \"painting\"\\\\l\n",
    "|\n",
    "+ __init__(...): None  \n",
    "}''')\n",
    "\n",
    "# Subclass: ArtistPotter\n",
    "uml.node('ArtistPotter', '''{\n",
    "ArtistPotter|\n",
    "+ specialization = \"pottery\"\\\\l\n",
    "|\n",
    "+ __init__(...): None  \n",
    "}''')\n",
    "\n",
    "# Inheritance arrows\n",
    "uml.edge(\"ArtifactGreek\", \"Artifact\", arrowhead=\"empty\", dir=\"front\")\n",
    "uml.edge(\"ArtifactRoman\", \"Artifact\", arrowhead=\"empty\", dir=\"front\")\n",
    "uml.edge(\"ArtistPainter\", \"Artist\", arrowhead=\"empty\", dir=\"front\")\n",
    "uml.edge(\"ArtistPotter\", \"Artist\", arrowhead=\"empty\", dir=\"front\")\n",
    "\n",
    "# Render diagram\n",
    "uml.render(\"ArtifactArtistUML\", cleanup=False)\n",
    "\"ArtifactArtistUML.png\"\n",
    "uml.view()\n"
   ]
  },
  {
   "cell_type": "code",
   "execution_count": null,
   "id": "eeab5086",
   "metadata": {},
   "outputs": [],
   "source": []
  }
 ],
 "metadata": {
  "kernelspec": {
   "display_name": ".venv",
   "language": "python",
   "name": "python3"
  },
  "language_info": {
   "codemirror_mode": {
    "name": "ipython",
    "version": 3
   },
   "file_extension": ".py",
   "mimetype": "text/x-python",
   "name": "python",
   "nbconvert_exporter": "python",
   "pygments_lexer": "ipython3",
   "version": "3.9.6"
  }
 },
 "nbformat": 4,
 "nbformat_minor": 5
}
