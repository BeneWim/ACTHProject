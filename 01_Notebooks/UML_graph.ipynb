{
 "cells": [
  {
   "cell_type": "code",
   "execution_count": 1,
   "id": "e2a90e65",
   "metadata": {},
   "outputs": [],
   "source": [
    "from graphviz import Digraph"
   ]
  },
  {
   "cell_type": "code",
   "execution_count": 3,
   "id": "261ab97a",
   "metadata": {},
   "outputs": [
    {
     "data": {
      "text/plain": [
       "'ExtendedArtifactSchemaWithReturnTypes.png'"
      ]
     },
     "execution_count": 3,
     "metadata": {},
     "output_type": "execute_result"
    }
   ],
   "source": [
    "uml = Digraph(name=\"ExtendedArtifactSchemaWithReturnTypes\", format='png')\n",
    "uml.attr(rankdir='TB', splines='ortho')\n",
    "uml.attr('node', shape='record', style='filled', fillcolor='gold', fontname='Helvetica', fontsize='10')\n",
    "\n",
    "# Base class: Artifact\n",
    "uml.node(\"Artifact\", '''{\n",
    "Artifact|\n",
    "+ department : str\\\\l\n",
    "+ accessionYear : str\\\\l\n",
    "+ objectName : str\\\\l\n",
    "+ title : str\\\\l\n",
    "+ culture : str\\\\l\n",
    "+ period : str\\\\l\n",
    "+ medium : str\\\\l\n",
    "+ classification : str\\\\l\n",
    "+ creditLine : str\\\\l\n",
    "+ objectWikidataURL : str\\\\l\n",
    "+ tags : str\\\\l\n",
    "+ tagsAATURL : str\\\\l\n",
    "+ tagsWikidataURL : str\\\\l\n",
    "+ dimensions : str\\\\l\n",
    "+ cm_value : str\\\\l\n",
    "|\n",
    "+ describe_basic() : str\\\\l\n",
    "+ citation(location: str) : str\\\\l\n",
    "}''')\n",
    "       \n",
    "# Subclass: ArtifactGreek\n",
    "uml.node(\"ArtifactGreek\", '''{\n",
    "Artifact|\n",
    "+ department : str\\\\l\n",
    "+ accessionYear : str\\\\l\n",
    "+ objectName : str\\\\l\n",
    "+ title : str\\\\l\n",
    "+ culture : str\\\\l\n",
    "+ period : str\\\\l\n",
    "+ medium : str\\\\l\n",
    "+ classification : str\\\\l\n",
    "+ creditLine : str\\\\l\n",
    "+ objectWikidataURL : str\\\\l\n",
    "+ tags : str\\\\l\n",
    "+ tagsAATURL : str\\\\l\n",
    "+ tagsWikidataURL : str\\\\l\n",
    "+ dimensions : str\\\\l\n",
    "+ cm_value : str\\\\l\n",
    "|\n",
    "+ describe() : str\\\\l\n",
    "+ relocate(new_location: str) : None\\\\l\n",
    "+ compare_subjects(other: Artifact) : dict\\\\l\n",
    "}''')\n",
    "\n",
    "# Subclass: ArtifactRoman\n",
    "uml.node(\"ArtifactRoman\", '''{\n",
    "Artifact|\n",
    "+ department : str\\\\l\n",
    "+ accessionYear : str\\\\l\n",
    "+ objectName : str\\\\l\n",
    "+ title : str\\\\l\n",
    "+ culture : str\\\\l\n",
    "+ period : str\\\\l\n",
    "+ medium : str\\\\l\n",
    "+ classification : str\\\\l\n",
    "+ creditLine : str\\\\l\n",
    "+ objectWikidataURL : str\\\\l\n",
    "+ tags : str\\\\l\n",
    "+ tagsAATURL : str\\\\l\n",
    "+ tagsWikidataURL : str\\\\l\n",
    "+ dimensions : str\\\\l\n",
    "+ cm_value : str\\\\l\n",
    "|\n",
    "+ report() : str\\\\l\n",
    "+ date(new_period: str) : None\\\\l\n",
    "}''')\n",
    "\n",
    "\n",
    "# Inheritance arrows\n",
    "uml.edge(\"ArtifactGreek\", \"Artifact\", arrowhead=\"empty\", dir=\"back\")\n",
    "uml.edge(\"ArtifactRoman\", \"Artifact\", arrowhead=\"empty\", dir=\"back\")\n",
    "\n",
    "# Render diagram\n",
    "uml.render(\"ExtendedArtifactSchemaWithReturnTypes\", cleanup=False)\n",
    "\"ExtendedArtifactSchemaWithReturnTypes.png\"\n",
    "uml.view()\n"
   ]
  },
  {
   "cell_type": "code",
   "execution_count": null,
   "id": "411ca8e8",
   "metadata": {},
   "outputs": [],
   "source": []
  }
 ],
 "metadata": {
  "kernelspec": {
   "display_name": ".venv",
   "language": "python",
   "name": "python3"
  },
  "language_info": {
   "codemirror_mode": {
    "name": "ipython",
    "version": 3
   },
   "file_extension": ".py",
   "mimetype": "text/x-python",
   "name": "python",
   "nbconvert_exporter": "python",
   "pygments_lexer": "ipython3",
   "version": "3.9.6"
  }
 },
 "nbformat": 4,
 "nbformat_minor": 5
}
