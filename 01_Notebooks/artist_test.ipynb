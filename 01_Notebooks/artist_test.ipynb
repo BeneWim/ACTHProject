{
 "cells": [
  {
   "cell_type": "code",
   "execution_count": 1,
   "id": "1ec29512",
   "metadata": {},
   "outputs": [],
   "source": [
    "%load_ext autoreload\n",
    "%autoreload 2\n",
    "\n",
    "import pandas as pd\n",
    "\n",
    "from Classes.Artist import Artist"
   ]
  },
  {
   "cell_type": "code",
   "execution_count": 2,
   "id": "e5483a34",
   "metadata": {},
   "outputs": [],
   "source": [
    "df = pd.read_csv(\"../Data/MetObjects_Cleaned.csv\", low_memory=False)"
   ]
  },
  {
   "cell_type": "code",
   "execution_count": 3,
   "id": "516b44bf",
   "metadata": {},
   "outputs": [],
   "source": [
    "artist = Artist.from_dataframe(df, 363)"
   ]
  },
  {
   "cell_type": "code",
   "execution_count": 4,
   "id": "36631b24",
   "metadata": {},
   "outputs": [
    {
     "name": "stdout",
     "output_type": "stream",
     "text": [
      "@prefix crm: <http://www.cidoc-crm.org/cidoc-crm/> .\n",
      "@prefix foaf: <http://xmlns.com/foaf/0.1/> .\n",
      "@prefix ns1: <http://schema.org/> .\n",
      "@prefix xsd: <http://www.w3.org/2001/XMLSchema#> .\n",
      "\n",
      "<https://www.wikidata.org/wiki/Q436826> a crm:E20_Person ;\n",
      "    ns1:nationality \"NaN\"^^xsd:double ;\n",
      "    foaf:name \"Altenburg Painter\" .\n",
      "\n",
      "\n"
     ]
    }
   ],
   "source": [
    "artist.print_rdf()"
   ]
  },
  {
   "cell_type": "code",
   "execution_count": 5,
   "id": "cd55cacf",
   "metadata": {},
   "outputs": [],
   "source": [
    "artist.wikidata_enrich()"
   ]
  },
  {
   "cell_type": "code",
   "execution_count": 6,
   "id": "7ff9926f",
   "metadata": {},
   "outputs": [
    {
     "name": "stdout",
     "output_type": "stream",
     "text": [
      "@prefix crm: <http://www.cidoc-crm.org/cidoc-crm/> .\n",
      "@prefix foaf: <http://xmlns.com/foaf/0.1/> .\n",
      "@prefix ns1: <http://schema.org/> .\n",
      "@prefix xsd: <http://www.w3.org/2001/XMLSchema#> .\n",
      "\n",
      "<https://www.wikidata.org/wiki/Q436826> a crm:E20_Person ;\n",
      "    ns1:birthDate \"-0600-01-01T00:00:00Z\" ;\n",
      "    ns1:nationality \"NaN\"^^xsd:double ;\n",
      "    foaf:name \"Altenburg Painter\" .\n",
      "\n",
      "\n"
     ]
    }
   ],
   "source": [
    "artist.print_rdf()"
   ]
  },
  {
   "cell_type": "code",
   "execution_count": 7,
   "id": "961ff8de",
   "metadata": {},
   "outputs": [
    {
     "data": {
      "text/plain": [
       "'-0600-01-01T00:00:00Z'"
      ]
     },
     "execution_count": 7,
     "metadata": {},
     "output_type": "execute_result"
    }
   ],
   "source": [
    "artist.date_of_birth"
   ]
  },
  {
   "cell_type": "code",
   "execution_count": null,
   "id": "cb29db7f",
   "metadata": {},
   "outputs": [],
   "source": []
  }
 ],
 "metadata": {
  "kernelspec": {
   "display_name": ".venv",
   "language": "python",
   "name": "python3"
  },
  "language_info": {
   "codemirror_mode": {
    "name": "ipython",
    "version": 3
   },
   "file_extension": ".py",
   "mimetype": "text/x-python",
   "name": "python",
   "nbconvert_exporter": "python",
   "pygments_lexer": "ipython3",
   "version": "3.9.6"
  }
 },
 "nbformat": 4,
 "nbformat_minor": 5
}
