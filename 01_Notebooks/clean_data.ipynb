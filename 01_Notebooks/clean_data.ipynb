{
 "cells": [
  {
   "cell_type": "code",
   "execution_count": 1,
   "id": "45b729f5",
   "metadata": {},
   "outputs": [],
   "source": [
    "%load_ext autoreload\n",
    "%autoreload 2\n",
    "\n",
    "import pandas as pd\n",
    "import numpy as np"
   ]
  },
  {
   "cell_type": "code",
   "execution_count": 2,
   "id": "f4b35587",
   "metadata": {},
   "outputs": [],
   "source": [
    "path = \"C:\\\\Projects\\\\ACTHProject\\\\ACTHProject\\\\MetObjects.csv\"\n",
    "\n",
    "df = pd.read_csv(path, low_memory=False)"
   ]
  },
  {
   "cell_type": "code",
   "execution_count": 3,
   "id": "b729a1f8",
   "metadata": {},
   "outputs": [
    {
     "name": "stdout",
     "output_type": "stream",
     "text": [
      "<class 'pandas.core.frame.DataFrame'>\n",
      "RangeIndex: 484956 entries, 0 to 484955\n",
      "Data columns (total 54 columns):\n",
      " #   Column                   Non-Null Count   Dtype  \n",
      "---  ------                   --------------   -----  \n",
      " 0   Object Number            484956 non-null  object \n",
      " 1   Is Highlight             484956 non-null  bool   \n",
      " 2   Is Timeline Work         484956 non-null  bool   \n",
      " 3   Is Public Domain         484956 non-null  bool   \n",
      " 4   Object ID                484956 non-null  int64  \n",
      " 5   Gallery Number           49541 non-null   object \n",
      " 6   Department               484956 non-null  object \n",
      " 7   AccessionYear            481094 non-null  object \n",
      " 8   Object Name              482690 non-null  object \n",
      " 9   Title                    456153 non-null  object \n",
      " 10  Culture                  208190 non-null  object \n",
      " 11  Period                   91143 non-null   object \n",
      " 12  Dynasty                  23201 non-null   object \n",
      " 13  Reign                    11236 non-null   object \n",
      " 14  Portfolio                26514 non-null   object \n",
      " 15  Constituent ID           282513 non-null  object \n",
      " 16  Artist Role              282513 non-null  object \n",
      " 17  Artist Prefix            282513 non-null  object \n",
      " 18  Artist Display Name      282513 non-null  object \n",
      " 19  Artist Display Bio       280423 non-null  object \n",
      " 20  Artist Suffix            282465 non-null  object \n",
      " 21  Artist Alpha Sort        282513 non-null  object \n",
      " 22  Artist Nationality       282513 non-null  object \n",
      " 23  Artist Begin Date        282513 non-null  object \n",
      " 24  Artist End Date          282513 non-null  object \n",
      " 25  Artist Gender            106482 non-null  object \n",
      " 26  Artist ULAN URL          227441 non-null  object \n",
      " 27  Artist Wikidata URL      224202 non-null  object \n",
      " 28  Object Date              471525 non-null  object \n",
      " 29  Object Begin Date        484956 non-null  int64  \n",
      " 30  Object End Date          484956 non-null  int64  \n",
      " 31  Medium                   477741 non-null  object \n",
      " 32  Dimensions               409898 non-null  object \n",
      " 33  Credit Line              484305 non-null  object \n",
      " 34  Geography Type           59959 non-null   object \n",
      " 35  City                     32754 non-null   object \n",
      " 36  State                    2621 non-null    object \n",
      " 37  County                   8559 non-null    object \n",
      " 38  Country                  76007 non-null   object \n",
      " 39  Region                   31500 non-null   object \n",
      " 40  Subregion                22143 non-null   object \n",
      " 41  Locale                   15739 non-null   object \n",
      " 42  Locus                    7518 non-null    object \n",
      " 43  Excavation               16571 non-null   object \n",
      " 44  River                    2092 non-null    object \n",
      " 45  Classification           406239 non-null  object \n",
      " 46  Rights and Reproduction  24529 non-null   object \n",
      " 47  Link Resource            484956 non-null  object \n",
      " 48  Object Wikidata URL      69154 non-null   object \n",
      " 49  Metadata Date            0 non-null       float64\n",
      " 50  Repository               484956 non-null  object \n",
      " 51  Tags                     192455 non-null  object \n",
      " 52  Tags AAT URL             192455 non-null  object \n",
      " 53  Tags Wikidata URL        192455 non-null  object \n",
      "dtypes: bool(3), float64(1), int64(3), object(47)\n",
      "memory usage: 1.1 GB\n"
     ]
    }
   ],
   "source": [
    "df.info(memory_usage='deep')"
   ]
  },
  {
   "cell_type": "code",
   "execution_count": 4,
   "id": "c617d335",
   "metadata": {},
   "outputs": [
    {
     "data": {
      "application/vnd.microsoft.datawrangler.viewer.v0+json": {
       "columns": [
        {
         "name": "index",
         "rawType": "int64",
         "type": "integer"
        },
        {
         "name": "Object Number",
         "rawType": "object",
         "type": "string"
        },
        {
         "name": "Is Highlight",
         "rawType": "bool",
         "type": "boolean"
        },
        {
         "name": "Is Timeline Work",
         "rawType": "bool",
         "type": "boolean"
        },
        {
         "name": "Is Public Domain",
         "rawType": "bool",
         "type": "boolean"
        },
        {
         "name": "Object ID",
         "rawType": "int64",
         "type": "integer"
        },
        {
         "name": "Gallery Number",
         "rawType": "object",
         "type": "unknown"
        },
        {
         "name": "Department",
         "rawType": "object",
         "type": "string"
        },
        {
         "name": "AccessionYear",
         "rawType": "object",
         "type": "string"
        },
        {
         "name": "Object Name",
         "rawType": "object",
         "type": "string"
        },
        {
         "name": "Title",
         "rawType": "object",
         "type": "string"
        },
        {
         "name": "Culture",
         "rawType": "object",
         "type": "unknown"
        },
        {
         "name": "Period",
         "rawType": "object",
         "type": "unknown"
        },
        {
         "name": "Dynasty",
         "rawType": "object",
         "type": "unknown"
        },
        {
         "name": "Reign",
         "rawType": "object",
         "type": "unknown"
        },
        {
         "name": "Portfolio",
         "rawType": "object",
         "type": "unknown"
        },
        {
         "name": "Constituent ID",
         "rawType": "object",
         "type": "unknown"
        },
        {
         "name": "Artist Role",
         "rawType": "object",
         "type": "unknown"
        },
        {
         "name": "Artist Prefix",
         "rawType": "object",
         "type": "unknown"
        },
        {
         "name": "Artist Display Name",
         "rawType": "object",
         "type": "unknown"
        },
        {
         "name": "Artist Display Bio",
         "rawType": "object",
         "type": "unknown"
        },
        {
         "name": "Artist Suffix",
         "rawType": "object",
         "type": "unknown"
        },
        {
         "name": "Artist Alpha Sort",
         "rawType": "object",
         "type": "unknown"
        },
        {
         "name": "Artist Nationality",
         "rawType": "object",
         "type": "unknown"
        },
        {
         "name": "Artist Begin Date",
         "rawType": "object",
         "type": "unknown"
        },
        {
         "name": "Artist End Date",
         "rawType": "object",
         "type": "unknown"
        },
        {
         "name": "Artist Gender",
         "rawType": "object",
         "type": "unknown"
        },
        {
         "name": "Artist ULAN URL",
         "rawType": "object",
         "type": "unknown"
        },
        {
         "name": "Artist Wikidata URL",
         "rawType": "object",
         "type": "unknown"
        },
        {
         "name": "Object Date",
         "rawType": "object",
         "type": "string"
        },
        {
         "name": "Object Begin Date",
         "rawType": "int64",
         "type": "integer"
        },
        {
         "name": "Object End Date",
         "rawType": "int64",
         "type": "integer"
        },
        {
         "name": "Medium",
         "rawType": "object",
         "type": "string"
        },
        {
         "name": "Dimensions",
         "rawType": "object",
         "type": "string"
        },
        {
         "name": "Credit Line",
         "rawType": "object",
         "type": "string"
        },
        {
         "name": "Geography Type",
         "rawType": "object",
         "type": "unknown"
        },
        {
         "name": "City",
         "rawType": "object",
         "type": "unknown"
        },
        {
         "name": "State",
         "rawType": "object",
         "type": "unknown"
        },
        {
         "name": "County",
         "rawType": "object",
         "type": "unknown"
        },
        {
         "name": "Country",
         "rawType": "object",
         "type": "unknown"
        },
        {
         "name": "Region",
         "rawType": "object",
         "type": "unknown"
        },
        {
         "name": "Subregion",
         "rawType": "object",
         "type": "unknown"
        },
        {
         "name": "Locale",
         "rawType": "object",
         "type": "unknown"
        },
        {
         "name": "Locus",
         "rawType": "object",
         "type": "unknown"
        },
        {
         "name": "Excavation",
         "rawType": "object",
         "type": "unknown"
        },
        {
         "name": "River",
         "rawType": "object",
         "type": "unknown"
        },
        {
         "name": "Classification",
         "rawType": "object",
         "type": "unknown"
        },
        {
         "name": "Rights and Reproduction",
         "rawType": "object",
         "type": "unknown"
        },
        {
         "name": "Link Resource",
         "rawType": "object",
         "type": "string"
        },
        {
         "name": "Object Wikidata URL",
         "rawType": "object",
         "type": "unknown"
        },
        {
         "name": "Metadata Date",
         "rawType": "float64",
         "type": "float"
        },
        {
         "name": "Repository",
         "rawType": "object",
         "type": "string"
        },
        {
         "name": "Tags",
         "rawType": "object",
         "type": "unknown"
        },
        {
         "name": "Tags AAT URL",
         "rawType": "object",
         "type": "unknown"
        },
        {
         "name": "Tags Wikidata URL",
         "rawType": "object",
         "type": "unknown"
        }
       ],
       "ref": "877a536e-3bd5-427b-a532-44cea2d12b7d",
       "rows": [
        [
         "0",
         "1979.486.1",
         "False",
         "False",
         "False",
         "1",
         null,
         "The American Wing",
         "1979",
         "Coin",
         "One-dollar Liberty Head Coin",
         null,
         null,
         null,
         null,
         null,
         "16429",
         "Maker",
         " ",
         "James Barton Longacre",
         "American, Delaware County, Pennsylvania 1794–1869 Philadelphia, Pennsylvania",
         " ",
         "Longacre, James Barton",
         "American",
         "1794      ",
         "1869      ",
         null,
         "http://vocab.getty.edu/page/ulan/500011409",
         "https://www.wikidata.org/wiki/Q3806459",
         "1853",
         "1853",
         "1853",
         "Gold",
         "Dimensions unavailable",
         "Gift of Heinz L. Stoppelmann, 1979",
         null,
         null,
         null,
         null,
         null,
         null,
         null,
         null,
         null,
         null,
         null,
         null,
         null,
         "http://www.metmuseum.org/art/collection/search/1",
         null,
         null,
         "Metropolitan Museum of Art, New York, NY",
         null,
         null,
         null
        ],
        [
         "1",
         "1980.264.5",
         "False",
         "False",
         "False",
         "2",
         null,
         "The American Wing",
         "1980",
         "Coin",
         "Ten-dollar Liberty Head Coin",
         null,
         null,
         null,
         null,
         null,
         "107",
         "Maker",
         " ",
         "Christian Gobrecht",
         "1785–1844",
         " ",
         "Gobrecht, Christian",
         "American",
         "1785      ",
         "1844      ",
         null,
         "http://vocab.getty.edu/page/ulan/500077295",
         "https://www.wikidata.org/wiki/Q5109648",
         "1901",
         "1901",
         "1901",
         "Gold",
         "Dimensions unavailable",
         "Gift of Heinz L. Stoppelmann, 1980",
         null,
         null,
         null,
         null,
         null,
         null,
         null,
         null,
         null,
         null,
         null,
         null,
         null,
         "http://www.metmuseum.org/art/collection/search/2",
         null,
         null,
         "Metropolitan Museum of Art, New York, NY",
         null,
         null,
         null
        ],
        [
         "2",
         "67.265.9",
         "False",
         "False",
         "False",
         "3",
         null,
         "The American Wing",
         "1967",
         "Coin",
         "Two-and-a-Half Dollar Coin",
         null,
         null,
         null,
         null,
         null,
         null,
         null,
         null,
         null,
         null,
         null,
         null,
         null,
         null,
         null,
         null,
         null,
         null,
         "1909–27",
         "1909",
         "1927",
         "Gold",
         "Diam. 11/16 in. (1.7 cm)",
         "Gift of C. Ruxton Love Jr., 1967",
         null,
         null,
         null,
         null,
         null,
         null,
         null,
         null,
         null,
         null,
         null,
         null,
         null,
         "http://www.metmuseum.org/art/collection/search/3",
         null,
         null,
         "Metropolitan Museum of Art, New York, NY",
         null,
         null,
         null
        ],
        [
         "3",
         "67.265.10",
         "False",
         "False",
         "False",
         "4",
         null,
         "The American Wing",
         "1967",
         "Coin",
         "Two-and-a-Half Dollar Coin",
         null,
         null,
         null,
         null,
         null,
         null,
         null,
         null,
         null,
         null,
         null,
         null,
         null,
         null,
         null,
         null,
         null,
         null,
         "1909–27",
         "1909",
         "1927",
         "Gold",
         "Diam. 11/16 in. (1.7 cm)",
         "Gift of C. Ruxton Love Jr., 1967",
         null,
         null,
         null,
         null,
         null,
         null,
         null,
         null,
         null,
         null,
         null,
         null,
         null,
         "http://www.metmuseum.org/art/collection/search/4",
         null,
         null,
         "Metropolitan Museum of Art, New York, NY",
         null,
         null,
         null
        ],
        [
         "4",
         "67.265.11",
         "False",
         "False",
         "False",
         "5",
         null,
         "The American Wing",
         "1967",
         "Coin",
         "Two-and-a-Half Dollar Coin",
         null,
         null,
         null,
         null,
         null,
         null,
         null,
         null,
         null,
         null,
         null,
         null,
         null,
         null,
         null,
         null,
         null,
         null,
         "1909–27",
         "1909",
         "1927",
         "Gold",
         "Diam. 11/16 in. (1.7 cm)",
         "Gift of C. Ruxton Love Jr., 1967",
         null,
         null,
         null,
         null,
         null,
         null,
         null,
         null,
         null,
         null,
         null,
         null,
         null,
         "http://www.metmuseum.org/art/collection/search/5",
         null,
         null,
         "Metropolitan Museum of Art, New York, NY",
         null,
         null,
         null
        ]
       ],
       "shape": {
        "columns": 54,
        "rows": 5
       }
      },
      "text/html": [
       "<div>\n",
       "<style scoped>\n",
       "    .dataframe tbody tr th:only-of-type {\n",
       "        vertical-align: middle;\n",
       "    }\n",
       "\n",
       "    .dataframe tbody tr th {\n",
       "        vertical-align: top;\n",
       "    }\n",
       "\n",
       "    .dataframe thead th {\n",
       "        text-align: right;\n",
       "    }\n",
       "</style>\n",
       "<table border=\"1\" class=\"dataframe\">\n",
       "  <thead>\n",
       "    <tr style=\"text-align: right;\">\n",
       "      <th></th>\n",
       "      <th>Object Number</th>\n",
       "      <th>Is Highlight</th>\n",
       "      <th>Is Timeline Work</th>\n",
       "      <th>Is Public Domain</th>\n",
       "      <th>Object ID</th>\n",
       "      <th>Gallery Number</th>\n",
       "      <th>Department</th>\n",
       "      <th>AccessionYear</th>\n",
       "      <th>Object Name</th>\n",
       "      <th>Title</th>\n",
       "      <th>...</th>\n",
       "      <th>River</th>\n",
       "      <th>Classification</th>\n",
       "      <th>Rights and Reproduction</th>\n",
       "      <th>Link Resource</th>\n",
       "      <th>Object Wikidata URL</th>\n",
       "      <th>Metadata Date</th>\n",
       "      <th>Repository</th>\n",
       "      <th>Tags</th>\n",
       "      <th>Tags AAT URL</th>\n",
       "      <th>Tags Wikidata URL</th>\n",
       "    </tr>\n",
       "  </thead>\n",
       "  <tbody>\n",
       "    <tr>\n",
       "      <th>0</th>\n",
       "      <td>1979.486.1</td>\n",
       "      <td>False</td>\n",
       "      <td>False</td>\n",
       "      <td>False</td>\n",
       "      <td>1</td>\n",
       "      <td>NaN</td>\n",
       "      <td>The American Wing</td>\n",
       "      <td>1979</td>\n",
       "      <td>Coin</td>\n",
       "      <td>One-dollar Liberty Head Coin</td>\n",
       "      <td>...</td>\n",
       "      <td>NaN</td>\n",
       "      <td>NaN</td>\n",
       "      <td>NaN</td>\n",
       "      <td>http://www.metmuseum.org/art/collection/search/1</td>\n",
       "      <td>NaN</td>\n",
       "      <td>NaN</td>\n",
       "      <td>Metropolitan Museum of Art, New York, NY</td>\n",
       "      <td>NaN</td>\n",
       "      <td>NaN</td>\n",
       "      <td>NaN</td>\n",
       "    </tr>\n",
       "    <tr>\n",
       "      <th>1</th>\n",
       "      <td>1980.264.5</td>\n",
       "      <td>False</td>\n",
       "      <td>False</td>\n",
       "      <td>False</td>\n",
       "      <td>2</td>\n",
       "      <td>NaN</td>\n",
       "      <td>The American Wing</td>\n",
       "      <td>1980</td>\n",
       "      <td>Coin</td>\n",
       "      <td>Ten-dollar Liberty Head Coin</td>\n",
       "      <td>...</td>\n",
       "      <td>NaN</td>\n",
       "      <td>NaN</td>\n",
       "      <td>NaN</td>\n",
       "      <td>http://www.metmuseum.org/art/collection/search/2</td>\n",
       "      <td>NaN</td>\n",
       "      <td>NaN</td>\n",
       "      <td>Metropolitan Museum of Art, New York, NY</td>\n",
       "      <td>NaN</td>\n",
       "      <td>NaN</td>\n",
       "      <td>NaN</td>\n",
       "    </tr>\n",
       "    <tr>\n",
       "      <th>2</th>\n",
       "      <td>67.265.9</td>\n",
       "      <td>False</td>\n",
       "      <td>False</td>\n",
       "      <td>False</td>\n",
       "      <td>3</td>\n",
       "      <td>NaN</td>\n",
       "      <td>The American Wing</td>\n",
       "      <td>1967</td>\n",
       "      <td>Coin</td>\n",
       "      <td>Two-and-a-Half Dollar Coin</td>\n",
       "      <td>...</td>\n",
       "      <td>NaN</td>\n",
       "      <td>NaN</td>\n",
       "      <td>NaN</td>\n",
       "      <td>http://www.metmuseum.org/art/collection/search/3</td>\n",
       "      <td>NaN</td>\n",
       "      <td>NaN</td>\n",
       "      <td>Metropolitan Museum of Art, New York, NY</td>\n",
       "      <td>NaN</td>\n",
       "      <td>NaN</td>\n",
       "      <td>NaN</td>\n",
       "    </tr>\n",
       "    <tr>\n",
       "      <th>3</th>\n",
       "      <td>67.265.10</td>\n",
       "      <td>False</td>\n",
       "      <td>False</td>\n",
       "      <td>False</td>\n",
       "      <td>4</td>\n",
       "      <td>NaN</td>\n",
       "      <td>The American Wing</td>\n",
       "      <td>1967</td>\n",
       "      <td>Coin</td>\n",
       "      <td>Two-and-a-Half Dollar Coin</td>\n",
       "      <td>...</td>\n",
       "      <td>NaN</td>\n",
       "      <td>NaN</td>\n",
       "      <td>NaN</td>\n",
       "      <td>http://www.metmuseum.org/art/collection/search/4</td>\n",
       "      <td>NaN</td>\n",
       "      <td>NaN</td>\n",
       "      <td>Metropolitan Museum of Art, New York, NY</td>\n",
       "      <td>NaN</td>\n",
       "      <td>NaN</td>\n",
       "      <td>NaN</td>\n",
       "    </tr>\n",
       "    <tr>\n",
       "      <th>4</th>\n",
       "      <td>67.265.11</td>\n",
       "      <td>False</td>\n",
       "      <td>False</td>\n",
       "      <td>False</td>\n",
       "      <td>5</td>\n",
       "      <td>NaN</td>\n",
       "      <td>The American Wing</td>\n",
       "      <td>1967</td>\n",
       "      <td>Coin</td>\n",
       "      <td>Two-and-a-Half Dollar Coin</td>\n",
       "      <td>...</td>\n",
       "      <td>NaN</td>\n",
       "      <td>NaN</td>\n",
       "      <td>NaN</td>\n",
       "      <td>http://www.metmuseum.org/art/collection/search/5</td>\n",
       "      <td>NaN</td>\n",
       "      <td>NaN</td>\n",
       "      <td>Metropolitan Museum of Art, New York, NY</td>\n",
       "      <td>NaN</td>\n",
       "      <td>NaN</td>\n",
       "      <td>NaN</td>\n",
       "    </tr>\n",
       "  </tbody>\n",
       "</table>\n",
       "<p>5 rows × 54 columns</p>\n",
       "</div>"
      ],
      "text/plain": [
       "  Object Number  Is Highlight  Is Timeline Work  Is Public Domain  Object ID  \\\n",
       "0    1979.486.1         False             False             False          1   \n",
       "1    1980.264.5         False             False             False          2   \n",
       "2      67.265.9         False             False             False          3   \n",
       "3     67.265.10         False             False             False          4   \n",
       "4     67.265.11         False             False             False          5   \n",
       "\n",
       "  Gallery Number         Department AccessionYear Object Name  \\\n",
       "0            NaN  The American Wing          1979        Coin   \n",
       "1            NaN  The American Wing          1980        Coin   \n",
       "2            NaN  The American Wing          1967        Coin   \n",
       "3            NaN  The American Wing          1967        Coin   \n",
       "4            NaN  The American Wing          1967        Coin   \n",
       "\n",
       "                          Title  ... River Classification  \\\n",
       "0  One-dollar Liberty Head Coin  ...   NaN            NaN   \n",
       "1  Ten-dollar Liberty Head Coin  ...   NaN            NaN   \n",
       "2    Two-and-a-Half Dollar Coin  ...   NaN            NaN   \n",
       "3    Two-and-a-Half Dollar Coin  ...   NaN            NaN   \n",
       "4    Two-and-a-Half Dollar Coin  ...   NaN            NaN   \n",
       "\n",
       "  Rights and Reproduction                                     Link Resource  \\\n",
       "0                     NaN  http://www.metmuseum.org/art/collection/search/1   \n",
       "1                     NaN  http://www.metmuseum.org/art/collection/search/2   \n",
       "2                     NaN  http://www.metmuseum.org/art/collection/search/3   \n",
       "3                     NaN  http://www.metmuseum.org/art/collection/search/4   \n",
       "4                     NaN  http://www.metmuseum.org/art/collection/search/5   \n",
       "\n",
       "  Object Wikidata URL Metadata Date                                Repository  \\\n",
       "0                 NaN           NaN  Metropolitan Museum of Art, New York, NY   \n",
       "1                 NaN           NaN  Metropolitan Museum of Art, New York, NY   \n",
       "2                 NaN           NaN  Metropolitan Museum of Art, New York, NY   \n",
       "3                 NaN           NaN  Metropolitan Museum of Art, New York, NY   \n",
       "4                 NaN           NaN  Metropolitan Museum of Art, New York, NY   \n",
       "\n",
       "  Tags Tags AAT URL Tags Wikidata URL  \n",
       "0  NaN          NaN               NaN  \n",
       "1  NaN          NaN               NaN  \n",
       "2  NaN          NaN               NaN  \n",
       "3  NaN          NaN               NaN  \n",
       "4  NaN          NaN               NaN  \n",
       "\n",
       "[5 rows x 54 columns]"
      ]
     },
     "execution_count": 4,
     "metadata": {},
     "output_type": "execute_result"
    }
   ],
   "source": [
    "df.head()"
   ]
  },
  {
   "cell_type": "code",
   "execution_count": 5,
   "id": "1b9b0762",
   "metadata": {},
   "outputs": [
    {
     "data": {
      "text/plain": [
       "484956"
      ]
     },
     "execution_count": 5,
     "metadata": {},
     "output_type": "execute_result"
    }
   ],
   "source": [
    "len(df)"
   ]
  },
  {
   "cell_type": "code",
   "execution_count": 6,
   "id": "415b9a81",
   "metadata": {},
   "outputs": [
    {
     "data": {
      "application/vnd.microsoft.datawrangler.viewer.v0+json": {
       "columns": [
        {
         "name": "Department",
         "rawType": "object",
         "type": "string"
        },
        {
         "name": "count",
         "rawType": "int64",
         "type": "integer"
        }
       ],
       "ref": "cce10b46-7398-4f16-a599-eb988bb6b567",
       "rows": [
        [
         "Drawings and Prints",
         "172630"
        ],
        [
         "European Sculpture and Decorative Arts",
         "43051"
        ],
        [
         "Photographs",
         "37459"
        ],
        [
         "Asian Art",
         "37000"
        ],
        [
         "Greek and Roman Art",
         "33726"
        ],
        [
         "Costume Institute",
         "31652"
        ],
        [
         "Egyptian Art",
         "27969"
        ],
        [
         "The American Wing",
         "18532"
        ],
        [
         "Islamic Art",
         "15573"
        ],
        [
         "Modern and Contemporary Art",
         "14696"
        ],
        [
         "Arms and Armor",
         "13623"
        ],
        [
         "Arts of Africa, Oceania, and the Americas",
         "12367"
        ],
        [
         "Medieval Art",
         "7142"
        ],
        [
         "Ancient Near Eastern Art",
         "6223"
        ],
        [
         "Musical Instruments",
         "5227"
        ],
        [
         "European Paintings",
         "2626"
        ],
        [
         "Robert Lehman Collection",
         "2586"
        ],
        [
         "The Cloisters",
         "2340"
        ],
        [
         "The Libraries",
         "534"
        ]
       ],
       "shape": {
        "columns": 1,
        "rows": 19
       }
      },
      "text/plain": [
       "Department\n",
       "Drawings and Prints                          172630\n",
       "European Sculpture and Decorative Arts        43051\n",
       "Photographs                                   37459\n",
       "Asian Art                                     37000\n",
       "Greek and Roman Art                           33726\n",
       "Costume Institute                             31652\n",
       "Egyptian Art                                  27969\n",
       "The American Wing                             18532\n",
       "Islamic Art                                   15573\n",
       "Modern and Contemporary Art                   14696\n",
       "Arms and Armor                                13623\n",
       "Arts of Africa, Oceania, and the Americas     12367\n",
       "Medieval Art                                   7142\n",
       "Ancient Near Eastern Art                       6223\n",
       "Musical Instruments                            5227\n",
       "European Paintings                             2626\n",
       "Robert Lehman Collection                       2586\n",
       "The Cloisters                                  2340\n",
       "The Libraries                                   534\n",
       "Name: count, dtype: int64"
      ]
     },
     "execution_count": 6,
     "metadata": {},
     "output_type": "execute_result"
    }
   ],
   "source": [
    "df[\"Department\"].value_counts()"
   ]
  },
  {
   "cell_type": "code",
   "execution_count": 7,
   "id": "283faf4d",
   "metadata": {},
   "outputs": [],
   "source": [
    "df = df[df[\"Department\"] == \"Greek and Roman Art\"]"
   ]
  },
  {
   "cell_type": "code",
   "execution_count": 8,
   "id": "65494e49",
   "metadata": {},
   "outputs": [
    {
     "name": "stdout",
     "output_type": "stream",
     "text": [
      "<class 'pandas.core.frame.DataFrame'>\n",
      "Index: 33726 entries, 139012 to 478597\n",
      "Data columns (total 54 columns):\n",
      " #   Column                   Non-Null Count  Dtype  \n",
      "---  ------                   --------------  -----  \n",
      " 0   Object Number            33726 non-null  object \n",
      " 1   Is Highlight             33726 non-null  bool   \n",
      " 2   Is Timeline Work         33726 non-null  bool   \n",
      " 3   Is Public Domain         33726 non-null  bool   \n",
      " 4   Object ID                33726 non-null  int64  \n",
      " 5   Gallery Number           6984 non-null   object \n",
      " 6   Department               33726 non-null  object \n",
      " 7   AccessionYear            33505 non-null  object \n",
      " 8   Object Name              33691 non-null  object \n",
      " 9   Title                    33726 non-null  object \n",
      " 10  Culture                  32410 non-null  object \n",
      " 11  Period                   29900 non-null  object \n",
      " 12  Dynasty                  0 non-null      object \n",
      " 13  Reign                    0 non-null      object \n",
      " 14  Portfolio                0 non-null      object \n",
      " 15  Constituent ID           2145 non-null   object \n",
      " 16  Artist Role              2145 non-null   object \n",
      " 17  Artist Prefix            2145 non-null   object \n",
      " 18  Artist Display Name      2145 non-null   object \n",
      " 19  Artist Display Bio       55 non-null     object \n",
      " 20  Artist Suffix            2143 non-null   object \n",
      " 21  Artist Alpha Sort        2145 non-null   object \n",
      " 22  Artist Nationality       2145 non-null   object \n",
      " 23  Artist Begin Date        2145 non-null   object \n",
      " 24  Artist End Date          2145 non-null   object \n",
      " 25  Artist Gender            55 non-null     object \n",
      " 26  Artist ULAN URL          2006 non-null   object \n",
      " 27  Artist Wikidata URL      1546 non-null   object \n",
      " 28  Object Date              30438 non-null  object \n",
      " 29  Object Begin Date        33726 non-null  int64  \n",
      " 30  Object End Date          33726 non-null  int64  \n",
      " 31  Medium                   33710 non-null  object \n",
      " 32  Dimensions               17471 non-null  object \n",
      " 33  Credit Line              33716 non-null  object \n",
      " 34  Geography Type           0 non-null      object \n",
      " 35  City                     0 non-null      object \n",
      " 36  State                    0 non-null      object \n",
      " 37  County                   0 non-null      object \n",
      " 38  Country                  0 non-null      object \n",
      " 39  Region                   0 non-null      object \n",
      " 40  Subregion                0 non-null      object \n",
      " 41  Locale                   0 non-null      object \n",
      " 42  Locus                    0 non-null      object \n",
      " 43  Excavation               0 non-null      object \n",
      " 44  River                    0 non-null      object \n",
      " 45  Classification           33696 non-null  object \n",
      " 46  Rights and Reproduction  0 non-null      object \n",
      " 47  Link Resource            33726 non-null  object \n",
      " 48  Object Wikidata URL      7564 non-null   object \n",
      " 49  Metadata Date            0 non-null      float64\n",
      " 50  Repository               33726 non-null  object \n",
      " 51  Tags                     5664 non-null   object \n",
      " 52  Tags AAT URL             5664 non-null   object \n",
      " 53  Tags Wikidata URL        5664 non-null   object \n",
      "dtypes: bool(3), float64(1), int64(3), object(47)\n",
      "memory usage: 13.5+ MB\n"
     ]
    }
   ],
   "source": [
    "df.info()"
   ]
  },
  {
   "cell_type": "code",
   "execution_count": 9,
   "id": "d7c4a985",
   "metadata": {},
   "outputs": [
    {
     "data": {
      "application/vnd.microsoft.datawrangler.viewer.v0+json": {
       "columns": [
        {
         "name": "Artist Begin Date",
         "rawType": "object",
         "type": "string"
        },
        {
         "name": "count",
         "rawType": "int64",
         "type": "integer"
        }
       ],
       "ref": "473e5e78-8dfd-4bc2-8500-accebe30f0db",
       "rows": [
        [
         "          ",
         "2086"
        ],
        [
         "          |          ",
         "54"
        ],
        [
         "1594      ",
         "1"
        ],
        [
         "0001      ",
         "1"
        ],
        [
         "          |          |          ",
         "1"
        ],
        [
         "1475      ",
         "1"
        ],
        [
         "1535      ",
         "1"
        ]
       ],
       "shape": {
        "columns": 1,
        "rows": 7
       }
      },
      "text/plain": [
       "Artist Begin Date\n",
       "                                    2086\n",
       "          |                           54\n",
       "1594                                   1\n",
       "0001                                   1\n",
       "          |          |                 1\n",
       "1475                                   1\n",
       "1535                                   1\n",
       "Name: count, dtype: int64"
      ]
     },
     "execution_count": 9,
     "metadata": {},
     "output_type": "execute_result"
    }
   ],
   "source": [
    "df[\"Artist Begin Date\"].value_counts()"
   ]
  },
  {
   "cell_type": "code",
   "execution_count": 10,
   "id": "a81372fc",
   "metadata": {},
   "outputs": [
    {
     "data": {
      "application/vnd.microsoft.datawrangler.viewer.v0+json": {
       "columns": [
        {
         "name": "Artist Gender",
         "rawType": "object",
         "type": "string"
        },
        {
         "name": "count",
         "rawType": "int64",
         "type": "integer"
        }
       ],
       "ref": "332910b1-e1f1-4001-a069-26cb9a2270a1",
       "rows": [
        [
         "|",
         "54"
        ],
        [
         "||",
         "1"
        ]
       ],
       "shape": {
        "columns": 1,
        "rows": 2
       }
      },
      "text/plain": [
       "Artist Gender\n",
       "|     54\n",
       "||     1\n",
       "Name: count, dtype: int64"
      ]
     },
     "execution_count": 10,
     "metadata": {},
     "output_type": "execute_result"
    }
   ],
   "source": [
    "df[\"Artist Gender\"].value_counts()"
   ]
  },
  {
   "cell_type": "code",
   "execution_count": 11,
   "id": "eec53bc9",
   "metadata": {},
   "outputs": [],
   "source": [
    "selected = df[[\"Object ID\"\n",
    "                 , \"Department\", \"AccessionYear\", \n",
    "                 \"Object Name\", \"Title\", \"Culture\", \n",
    "                 \"Period\", \"Medium\", \"Classification\", \n",
    "                 \"Credit Line\", \"Object Wikidata URL\", \n",
    "                 \"Tags\", \"Tags AAT URL\", \"Tags Wikidata URL\",\n",
    "                 \"Artist Display Name\",\n",
    "                 \"Artist Wikidata URL\", \"Artist ULAN URL\",\n",
    "                 \"Artist Nationality\", \"Dimensions\"]].copy()"
   ]
  },
  {
   "cell_type": "code",
   "execution_count": 12,
   "id": "ec529318",
   "metadata": {},
   "outputs": [
    {
     "name": "stdout",
     "output_type": "stream",
     "text": [
      "<class 'pandas.core.frame.DataFrame'>\n",
      "Index: 33726 entries, 139012 to 478597\n",
      "Data columns (total 19 columns):\n",
      " #   Column               Non-Null Count  Dtype \n",
      "---  ------               --------------  ----- \n",
      " 0   Object ID            33726 non-null  int64 \n",
      " 1   Department           33726 non-null  object\n",
      " 2   AccessionYear        33505 non-null  object\n",
      " 3   Object Name          33691 non-null  object\n",
      " 4   Title                33726 non-null  object\n",
      " 5   Culture              32410 non-null  object\n",
      " 6   Period               29900 non-null  object\n",
      " 7   Medium               33710 non-null  object\n",
      " 8   Classification       33696 non-null  object\n",
      " 9   Credit Line          33716 non-null  object\n",
      " 10  Object Wikidata URL  7564 non-null   object\n",
      " 11  Tags                 5664 non-null   object\n",
      " 12  Tags AAT URL         5664 non-null   object\n",
      " 13  Tags Wikidata URL    5664 non-null   object\n",
      " 14  Artist Display Name  2145 non-null   object\n",
      " 15  Artist Wikidata URL  1546 non-null   object\n",
      " 16  Artist ULAN URL      2006 non-null   object\n",
      " 17  Artist Nationality   2145 non-null   object\n",
      " 18  Dimensions           17471 non-null  object\n",
      "dtypes: int64(1), object(18)\n",
      "memory usage: 32.6 MB\n"
     ]
    }
   ],
   "source": [
    "selected.info(memory_usage='deep')"
   ]
  },
  {
   "cell_type": "code",
   "execution_count": 13,
   "id": "175a103b",
   "metadata": {},
   "outputs": [
    {
     "data": {
      "application/vnd.microsoft.datawrangler.viewer.v0+json": {
       "columns": [
        {
         "name": "index",
         "rawType": "int64",
         "type": "integer"
        },
        {
         "name": "Object ID",
         "rawType": "int64",
         "type": "integer"
        },
        {
         "name": "Department",
         "rawType": "object",
         "type": "string"
        },
        {
         "name": "AccessionYear",
         "rawType": "object",
         "type": "string"
        },
        {
         "name": "Object Name",
         "rawType": "object",
         "type": "string"
        },
        {
         "name": "Title",
         "rawType": "object",
         "type": "string"
        },
        {
         "name": "Culture",
         "rawType": "object",
         "type": "string"
        },
        {
         "name": "Period",
         "rawType": "object",
         "type": "unknown"
        },
        {
         "name": "Medium",
         "rawType": "object",
         "type": "string"
        },
        {
         "name": "Classification",
         "rawType": "object",
         "type": "string"
        },
        {
         "name": "Credit Line",
         "rawType": "object",
         "type": "string"
        },
        {
         "name": "Object Wikidata URL",
         "rawType": "object",
         "type": "unknown"
        },
        {
         "name": "Tags",
         "rawType": "object",
         "type": "unknown"
        },
        {
         "name": "Tags AAT URL",
         "rawType": "object",
         "type": "unknown"
        },
        {
         "name": "Tags Wikidata URL",
         "rawType": "object",
         "type": "unknown"
        },
        {
         "name": "Artist Display Name",
         "rawType": "object",
         "type": "unknown"
        },
        {
         "name": "Artist Wikidata URL",
         "rawType": "object",
         "type": "unknown"
        },
        {
         "name": "Artist ULAN URL",
         "rawType": "object",
         "type": "unknown"
        },
        {
         "name": "Artist Nationality",
         "rawType": "object",
         "type": "unknown"
        },
        {
         "name": "Dimensions",
         "rawType": "object",
         "type": "unknown"
        }
       ],
       "ref": "e4265b78-332f-49bf-9919-3a1a48efac3a",
       "rows": [
        [
         "475129",
         "844483",
         "Greek and Roman Art",
         "1913",
         "Group of fifteen terracotta comic actors",
         "Group of fifteen terracotta comic actors",
         "Greek",
         "Late Classical",
         "Terracotta",
         "Terracottas",
         "Rogers Fund, 1913",
         "https://www.wikidata.org/wiki/Q116296487",
         "Men|Actors",
         "http://vocab.getty.edu/page/aat/300025928|http://vocab.getty.edu/page/aat/300025658",
         "https://www.wikidata.org/wiki/Q8441|https://www.wikidata.org/wiki/Q33999",
         null,
         null,
         null,
         null,
         null
        ],
        [
         "475511",
         "848360",
         "Greek and Roman Art",
         "2021",
         "Obol",
         "Silver obol",
         "Greek, Attica",
         null,
         "Silver",
         "Coins",
         "Bequest of Nanette B. Kelekian, 2020",
         null,
         null,
         null,
         null,
         null,
         null,
         null,
         null,
         "3/8 in. (9 mm)"
        ],
        [
         "475512",
         "848362",
         "Greek and Roman Art",
         "2021",
         "Obol",
         "Silver obol",
         "Greek, Attic",
         null,
         "Silver",
         "Coins",
         "Bequest of Nanette B. Kelekian, 2020",
         null,
         null,
         null,
         null,
         null,
         null,
         null,
         null,
         "5/16 in. (8.5 mm)"
        ],
        [
         "476536",
         "852284",
         "Greek and Roman Art",
         "2021",
         "fibula",
         "Fibula",
         "Greek",
         "Geometric",
         "Bronze",
         "Bronzes",
         "Purchase, Fried Foundation Gift, 2021",
         "https://www.wikidata.org/wiki/Q116445562",
         null,
         null,
         null,
         null,
         null,
         null,
         null,
         "5 3/8 in., 200g (13.7 cm, 200g)"
        ],
        [
         "477396",
         "854887",
         "Greek and Roman Art",
         "2021",
         "relief",
         "Trophy relief fragment",
         "Roman",
         null,
         "Marble",
         "Stone Sculpture",
         "Gift of Carmel and Eugene Krauss, M.D., 2021",
         null,
         null,
         null,
         null,
         null,
         null,
         null,
         null,
         "Other: 27 × 9 × 25 in. (68.6 × 22.9 × 63.5 cm)"
        ],
        [
         "477397",
         "854888",
         "Greek and Roman Art",
         "2021",
         "sarcophagus",
         "Sarcophagus",
         "Roman",
         null,
         "Marble",
         "Stone Sculpture",
         "Gift of Carmel and Eugene Krauss, M.D., 2021",
         null,
         null,
         null,
         null,
         null,
         null,
         null,
         null,
         "Other: 44 × 84 × 40 in. (111.8 × 213.4 × 101.6 cm)"
        ],
        [
         "478232",
         "856618",
         "Greek and Roman Art",
         "2021",
         "statuette",
         "Statuette of a standing goddess",
         "Greek, Boeotian",
         null,
         "terracotta",
         "Terracottas",
         "Purchase, Patricia and Marietta Fried Gift, 2021",
         "https://www.wikidata.org/wiki/Q116445622",
         null,
         null,
         null,
         null,
         null,
         null,
         null,
         "9 × 3 3/8 × 1 1/4 in. (22.9 × 8.6 × 3.2 cm)"
        ],
        [
         "478595",
         "857709",
         "Greek and Roman Art",
         "1874",
         "Askos",
         "Terracotta askos in the shape of a quadruped",
         "Cypriot",
         "Early Cypriot III–Middle Cypriot",
         "Terracotta",
         "Vases",
         "The Cesnola Collection, Purchased by subscription, 1874–76",
         "https://www.wikidata.org/wiki/Q116445645",
         null,
         null,
         null,
         null,
         null,
         null,
         null,
         "2 5/8 × 1 1/2 × 3 3/4 in., 1.764oz. (6.7 × 3.8 × 9.5 cm, 50g)"
        ],
        [
         "478596",
         "857715",
         "Greek and Roman Art",
         "1874",
         "Askos",
         "Terracotta askos in the shape of a water bird",
         "Cypriot",
         "Late Cypriot IIIB",
         "Terracotta",
         "Vases",
         "The Cesnola Collection, Purchased by subscription, 1874–76",
         "https://www.wikidata.org/wiki/Q116445646",
         "Birds",
         "http://vocab.getty.edu/page/aat/300266506",
         "https://www.wikidata.org/wiki/Q5113",
         null,
         null,
         null,
         null,
         "4 1/2 × 2 3/4 × 6 1/4 in., 5.114oz. (11.4 × 7 × 15.9 cm, 145g)"
        ],
        [
         "478597",
         "857718",
         "Greek and Roman Art",
         "1874",
         "Stirrup jar",
         "Terracotta stirrup jar",
         "Mycenaean",
         "Late Helladic IIIA2",
         "Terracotta",
         "Vases",
         "The Cesnola Collection, Purchased by subscription, 1874–76",
         "https://www.wikidata.org/wiki/Q116445649",
         null,
         null,
         null,
         null,
         null,
         null,
         null,
         "7 1/2 × 5 1/2 in., 16.753oz. (19.1 × 14 cm, 475g)"
        ]
       ],
       "shape": {
        "columns": 19,
        "rows": 10
       }
      },
      "text/html": [
       "<div>\n",
       "<style scoped>\n",
       "    .dataframe tbody tr th:only-of-type {\n",
       "        vertical-align: middle;\n",
       "    }\n",
       "\n",
       "    .dataframe tbody tr th {\n",
       "        vertical-align: top;\n",
       "    }\n",
       "\n",
       "    .dataframe thead th {\n",
       "        text-align: right;\n",
       "    }\n",
       "</style>\n",
       "<table border=\"1\" class=\"dataframe\">\n",
       "  <thead>\n",
       "    <tr style=\"text-align: right;\">\n",
       "      <th></th>\n",
       "      <th>Object ID</th>\n",
       "      <th>Department</th>\n",
       "      <th>AccessionYear</th>\n",
       "      <th>Object Name</th>\n",
       "      <th>Title</th>\n",
       "      <th>Culture</th>\n",
       "      <th>Period</th>\n",
       "      <th>Medium</th>\n",
       "      <th>Classification</th>\n",
       "      <th>Credit Line</th>\n",
       "      <th>Object Wikidata URL</th>\n",
       "      <th>Tags</th>\n",
       "      <th>Tags AAT URL</th>\n",
       "      <th>Tags Wikidata URL</th>\n",
       "      <th>Artist Display Name</th>\n",
       "      <th>Artist Wikidata URL</th>\n",
       "      <th>Artist ULAN URL</th>\n",
       "      <th>Artist Nationality</th>\n",
       "      <th>Dimensions</th>\n",
       "    </tr>\n",
       "  </thead>\n",
       "  <tbody>\n",
       "    <tr>\n",
       "      <th>475129</th>\n",
       "      <td>844483</td>\n",
       "      <td>Greek and Roman Art</td>\n",
       "      <td>1913</td>\n",
       "      <td>Group of fifteen terracotta comic actors</td>\n",
       "      <td>Group of fifteen terracotta comic actors</td>\n",
       "      <td>Greek</td>\n",
       "      <td>Late Classical</td>\n",
       "      <td>Terracotta</td>\n",
       "      <td>Terracottas</td>\n",
       "      <td>Rogers Fund, 1913</td>\n",
       "      <td>https://www.wikidata.org/wiki/Q116296487</td>\n",
       "      <td>Men|Actors</td>\n",
       "      <td>http://vocab.getty.edu/page/aat/300025928|http...</td>\n",
       "      <td>https://www.wikidata.org/wiki/Q8441|https://ww...</td>\n",
       "      <td>NaN</td>\n",
       "      <td>NaN</td>\n",
       "      <td>NaN</td>\n",
       "      <td>NaN</td>\n",
       "      <td>NaN</td>\n",
       "    </tr>\n",
       "    <tr>\n",
       "      <th>475511</th>\n",
       "      <td>848360</td>\n",
       "      <td>Greek and Roman Art</td>\n",
       "      <td>2021</td>\n",
       "      <td>Obol</td>\n",
       "      <td>Silver obol</td>\n",
       "      <td>Greek, Attica</td>\n",
       "      <td>NaN</td>\n",
       "      <td>Silver</td>\n",
       "      <td>Coins</td>\n",
       "      <td>Bequest of Nanette B. Kelekian, 2020</td>\n",
       "      <td>NaN</td>\n",
       "      <td>NaN</td>\n",
       "      <td>NaN</td>\n",
       "      <td>NaN</td>\n",
       "      <td>NaN</td>\n",
       "      <td>NaN</td>\n",
       "      <td>NaN</td>\n",
       "      <td>NaN</td>\n",
       "      <td>3/8 in. (9 mm)</td>\n",
       "    </tr>\n",
       "    <tr>\n",
       "      <th>475512</th>\n",
       "      <td>848362</td>\n",
       "      <td>Greek and Roman Art</td>\n",
       "      <td>2021</td>\n",
       "      <td>Obol</td>\n",
       "      <td>Silver obol</td>\n",
       "      <td>Greek, Attic</td>\n",
       "      <td>NaN</td>\n",
       "      <td>Silver</td>\n",
       "      <td>Coins</td>\n",
       "      <td>Bequest of Nanette B. Kelekian, 2020</td>\n",
       "      <td>NaN</td>\n",
       "      <td>NaN</td>\n",
       "      <td>NaN</td>\n",
       "      <td>NaN</td>\n",
       "      <td>NaN</td>\n",
       "      <td>NaN</td>\n",
       "      <td>NaN</td>\n",
       "      <td>NaN</td>\n",
       "      <td>5/16 in. (8.5 mm)</td>\n",
       "    </tr>\n",
       "    <tr>\n",
       "      <th>476536</th>\n",
       "      <td>852284</td>\n",
       "      <td>Greek and Roman Art</td>\n",
       "      <td>2021</td>\n",
       "      <td>fibula</td>\n",
       "      <td>Fibula</td>\n",
       "      <td>Greek</td>\n",
       "      <td>Geometric</td>\n",
       "      <td>Bronze</td>\n",
       "      <td>Bronzes</td>\n",
       "      <td>Purchase, Fried Foundation Gift, 2021</td>\n",
       "      <td>https://www.wikidata.org/wiki/Q116445562</td>\n",
       "      <td>NaN</td>\n",
       "      <td>NaN</td>\n",
       "      <td>NaN</td>\n",
       "      <td>NaN</td>\n",
       "      <td>NaN</td>\n",
       "      <td>NaN</td>\n",
       "      <td>NaN</td>\n",
       "      <td>5 3/8 in., 200g (13.7 cm, 200g)</td>\n",
       "    </tr>\n",
       "    <tr>\n",
       "      <th>477396</th>\n",
       "      <td>854887</td>\n",
       "      <td>Greek and Roman Art</td>\n",
       "      <td>2021</td>\n",
       "      <td>relief</td>\n",
       "      <td>Trophy relief fragment</td>\n",
       "      <td>Roman</td>\n",
       "      <td>NaN</td>\n",
       "      <td>Marble</td>\n",
       "      <td>Stone Sculpture</td>\n",
       "      <td>Gift of Carmel and Eugene Krauss, M.D., 2021</td>\n",
       "      <td>NaN</td>\n",
       "      <td>NaN</td>\n",
       "      <td>NaN</td>\n",
       "      <td>NaN</td>\n",
       "      <td>NaN</td>\n",
       "      <td>NaN</td>\n",
       "      <td>NaN</td>\n",
       "      <td>NaN</td>\n",
       "      <td>Other: 27 × 9 × 25 in. (68.6 × 22.9 × 63.5 cm)</td>\n",
       "    </tr>\n",
       "    <tr>\n",
       "      <th>477397</th>\n",
       "      <td>854888</td>\n",
       "      <td>Greek and Roman Art</td>\n",
       "      <td>2021</td>\n",
       "      <td>sarcophagus</td>\n",
       "      <td>Sarcophagus</td>\n",
       "      <td>Roman</td>\n",
       "      <td>NaN</td>\n",
       "      <td>Marble</td>\n",
       "      <td>Stone Sculpture</td>\n",
       "      <td>Gift of Carmel and Eugene Krauss, M.D., 2021</td>\n",
       "      <td>NaN</td>\n",
       "      <td>NaN</td>\n",
       "      <td>NaN</td>\n",
       "      <td>NaN</td>\n",
       "      <td>NaN</td>\n",
       "      <td>NaN</td>\n",
       "      <td>NaN</td>\n",
       "      <td>NaN</td>\n",
       "      <td>Other: 44 × 84 × 40 in. (111.8 × 213.4 × 101.6...</td>\n",
       "    </tr>\n",
       "    <tr>\n",
       "      <th>478232</th>\n",
       "      <td>856618</td>\n",
       "      <td>Greek and Roman Art</td>\n",
       "      <td>2021</td>\n",
       "      <td>statuette</td>\n",
       "      <td>Statuette of a standing goddess</td>\n",
       "      <td>Greek, Boeotian</td>\n",
       "      <td>NaN</td>\n",
       "      <td>terracotta</td>\n",
       "      <td>Terracottas</td>\n",
       "      <td>Purchase, Patricia and Marietta Fried Gift, 2021</td>\n",
       "      <td>https://www.wikidata.org/wiki/Q116445622</td>\n",
       "      <td>NaN</td>\n",
       "      <td>NaN</td>\n",
       "      <td>NaN</td>\n",
       "      <td>NaN</td>\n",
       "      <td>NaN</td>\n",
       "      <td>NaN</td>\n",
       "      <td>NaN</td>\n",
       "      <td>9 × 3 3/8 × 1 1/4 in. (22.9 × 8.6 × 3.2 cm)</td>\n",
       "    </tr>\n",
       "    <tr>\n",
       "      <th>478595</th>\n",
       "      <td>857709</td>\n",
       "      <td>Greek and Roman Art</td>\n",
       "      <td>1874</td>\n",
       "      <td>Askos</td>\n",
       "      <td>Terracotta askos in the shape of a quadruped</td>\n",
       "      <td>Cypriot</td>\n",
       "      <td>Early Cypriot III–Middle Cypriot</td>\n",
       "      <td>Terracotta</td>\n",
       "      <td>Vases</td>\n",
       "      <td>The Cesnola Collection, Purchased by subscript...</td>\n",
       "      <td>https://www.wikidata.org/wiki/Q116445645</td>\n",
       "      <td>NaN</td>\n",
       "      <td>NaN</td>\n",
       "      <td>NaN</td>\n",
       "      <td>NaN</td>\n",
       "      <td>NaN</td>\n",
       "      <td>NaN</td>\n",
       "      <td>NaN</td>\n",
       "      <td>2 5/8 × 1 1/2 × 3 3/4 in., 1.764oz. (6.7 × 3.8...</td>\n",
       "    </tr>\n",
       "    <tr>\n",
       "      <th>478596</th>\n",
       "      <td>857715</td>\n",
       "      <td>Greek and Roman Art</td>\n",
       "      <td>1874</td>\n",
       "      <td>Askos</td>\n",
       "      <td>Terracotta askos in the shape of a water bird</td>\n",
       "      <td>Cypriot</td>\n",
       "      <td>Late Cypriot IIIB</td>\n",
       "      <td>Terracotta</td>\n",
       "      <td>Vases</td>\n",
       "      <td>The Cesnola Collection, Purchased by subscript...</td>\n",
       "      <td>https://www.wikidata.org/wiki/Q116445646</td>\n",
       "      <td>Birds</td>\n",
       "      <td>http://vocab.getty.edu/page/aat/300266506</td>\n",
       "      <td>https://www.wikidata.org/wiki/Q5113</td>\n",
       "      <td>NaN</td>\n",
       "      <td>NaN</td>\n",
       "      <td>NaN</td>\n",
       "      <td>NaN</td>\n",
       "      <td>4 1/2 × 2 3/4 × 6 1/4 in., 5.114oz. (11.4 × 7 ...</td>\n",
       "    </tr>\n",
       "    <tr>\n",
       "      <th>478597</th>\n",
       "      <td>857718</td>\n",
       "      <td>Greek and Roman Art</td>\n",
       "      <td>1874</td>\n",
       "      <td>Stirrup jar</td>\n",
       "      <td>Terracotta stirrup jar</td>\n",
       "      <td>Mycenaean</td>\n",
       "      <td>Late Helladic IIIA2</td>\n",
       "      <td>Terracotta</td>\n",
       "      <td>Vases</td>\n",
       "      <td>The Cesnola Collection, Purchased by subscript...</td>\n",
       "      <td>https://www.wikidata.org/wiki/Q116445649</td>\n",
       "      <td>NaN</td>\n",
       "      <td>NaN</td>\n",
       "      <td>NaN</td>\n",
       "      <td>NaN</td>\n",
       "      <td>NaN</td>\n",
       "      <td>NaN</td>\n",
       "      <td>NaN</td>\n",
       "      <td>7 1/2 × 5 1/2 in., 16.753oz. (19.1 × 14 cm, 475g)</td>\n",
       "    </tr>\n",
       "  </tbody>\n",
       "</table>\n",
       "</div>"
      ],
      "text/plain": [
       "        Object ID           Department AccessionYear  \\\n",
       "475129     844483  Greek and Roman Art          1913   \n",
       "475511     848360  Greek and Roman Art          2021   \n",
       "475512     848362  Greek and Roman Art          2021   \n",
       "476536     852284  Greek and Roman Art          2021   \n",
       "477396     854887  Greek and Roman Art          2021   \n",
       "477397     854888  Greek and Roman Art          2021   \n",
       "478232     856618  Greek and Roman Art          2021   \n",
       "478595     857709  Greek and Roman Art          1874   \n",
       "478596     857715  Greek and Roman Art          1874   \n",
       "478597     857718  Greek and Roman Art          1874   \n",
       "\n",
       "                                     Object Name  \\\n",
       "475129  Group of fifteen terracotta comic actors   \n",
       "475511                                      Obol   \n",
       "475512                                      Obol   \n",
       "476536                                    fibula   \n",
       "477396                                    relief   \n",
       "477397                               sarcophagus   \n",
       "478232                                 statuette   \n",
       "478595                                     Askos   \n",
       "478596                                     Askos   \n",
       "478597                               Stirrup jar   \n",
       "\n",
       "                                                Title          Culture  \\\n",
       "475129       Group of fifteen terracotta comic actors            Greek   \n",
       "475511                                    Silver obol    Greek, Attica   \n",
       "475512                                    Silver obol     Greek, Attic   \n",
       "476536                                         Fibula            Greek   \n",
       "477396                         Trophy relief fragment            Roman   \n",
       "477397                                    Sarcophagus            Roman   \n",
       "478232                Statuette of a standing goddess  Greek, Boeotian   \n",
       "478595   Terracotta askos in the shape of a quadruped          Cypriot   \n",
       "478596  Terracotta askos in the shape of a water bird          Cypriot   \n",
       "478597                         Terracotta stirrup jar        Mycenaean   \n",
       "\n",
       "                                  Period      Medium   Classification  \\\n",
       "475129                    Late Classical  Terracotta      Terracottas   \n",
       "475511                               NaN      Silver            Coins   \n",
       "475512                               NaN      Silver            Coins   \n",
       "476536                         Geometric      Bronze          Bronzes   \n",
       "477396                               NaN      Marble  Stone Sculpture   \n",
       "477397                               NaN      Marble  Stone Sculpture   \n",
       "478232                               NaN  terracotta      Terracottas   \n",
       "478595  Early Cypriot III–Middle Cypriot  Terracotta            Vases   \n",
       "478596                 Late Cypriot IIIB  Terracotta            Vases   \n",
       "478597               Late Helladic IIIA2  Terracotta            Vases   \n",
       "\n",
       "                                              Credit Line  \\\n",
       "475129                                  Rogers Fund, 1913   \n",
       "475511               Bequest of Nanette B. Kelekian, 2020   \n",
       "475512               Bequest of Nanette B. Kelekian, 2020   \n",
       "476536              Purchase, Fried Foundation Gift, 2021   \n",
       "477396       Gift of Carmel and Eugene Krauss, M.D., 2021   \n",
       "477397       Gift of Carmel and Eugene Krauss, M.D., 2021   \n",
       "478232   Purchase, Patricia and Marietta Fried Gift, 2021   \n",
       "478595  The Cesnola Collection, Purchased by subscript...   \n",
       "478596  The Cesnola Collection, Purchased by subscript...   \n",
       "478597  The Cesnola Collection, Purchased by subscript...   \n",
       "\n",
       "                             Object Wikidata URL        Tags  \\\n",
       "475129  https://www.wikidata.org/wiki/Q116296487  Men|Actors   \n",
       "475511                                       NaN         NaN   \n",
       "475512                                       NaN         NaN   \n",
       "476536  https://www.wikidata.org/wiki/Q116445562         NaN   \n",
       "477396                                       NaN         NaN   \n",
       "477397                                       NaN         NaN   \n",
       "478232  https://www.wikidata.org/wiki/Q116445622         NaN   \n",
       "478595  https://www.wikidata.org/wiki/Q116445645         NaN   \n",
       "478596  https://www.wikidata.org/wiki/Q116445646       Birds   \n",
       "478597  https://www.wikidata.org/wiki/Q116445649         NaN   \n",
       "\n",
       "                                             Tags AAT URL  \\\n",
       "475129  http://vocab.getty.edu/page/aat/300025928|http...   \n",
       "475511                                                NaN   \n",
       "475512                                                NaN   \n",
       "476536                                                NaN   \n",
       "477396                                                NaN   \n",
       "477397                                                NaN   \n",
       "478232                                                NaN   \n",
       "478595                                                NaN   \n",
       "478596          http://vocab.getty.edu/page/aat/300266506   \n",
       "478597                                                NaN   \n",
       "\n",
       "                                        Tags Wikidata URL Artist Display Name  \\\n",
       "475129  https://www.wikidata.org/wiki/Q8441|https://ww...                 NaN   \n",
       "475511                                                NaN                 NaN   \n",
       "475512                                                NaN                 NaN   \n",
       "476536                                                NaN                 NaN   \n",
       "477396                                                NaN                 NaN   \n",
       "477397                                                NaN                 NaN   \n",
       "478232                                                NaN                 NaN   \n",
       "478595                                                NaN                 NaN   \n",
       "478596                https://www.wikidata.org/wiki/Q5113                 NaN   \n",
       "478597                                                NaN                 NaN   \n",
       "\n",
       "       Artist Wikidata URL Artist ULAN URL Artist Nationality  \\\n",
       "475129                 NaN             NaN                NaN   \n",
       "475511                 NaN             NaN                NaN   \n",
       "475512                 NaN             NaN                NaN   \n",
       "476536                 NaN             NaN                NaN   \n",
       "477396                 NaN             NaN                NaN   \n",
       "477397                 NaN             NaN                NaN   \n",
       "478232                 NaN             NaN                NaN   \n",
       "478595                 NaN             NaN                NaN   \n",
       "478596                 NaN             NaN                NaN   \n",
       "478597                 NaN             NaN                NaN   \n",
       "\n",
       "                                               Dimensions  \n",
       "475129                                                NaN  \n",
       "475511                                     3/8 in. (9 mm)  \n",
       "475512                                  5/16 in. (8.5 mm)  \n",
       "476536                    5 3/8 in., 200g (13.7 cm, 200g)  \n",
       "477396     Other: 27 × 9 × 25 in. (68.6 × 22.9 × 63.5 cm)  \n",
       "477397  Other: 44 × 84 × 40 in. (111.8 × 213.4 × 101.6...  \n",
       "478232        9 × 3 3/8 × 1 1/4 in. (22.9 × 8.6 × 3.2 cm)  \n",
       "478595  2 5/8 × 1 1/2 × 3 3/4 in., 1.764oz. (6.7 × 3.8...  \n",
       "478596  4 1/2 × 2 3/4 × 6 1/4 in., 5.114oz. (11.4 × 7 ...  \n",
       "478597  7 1/2 × 5 1/2 in., 16.753oz. (19.1 × 14 cm, 475g)  "
      ]
     },
     "execution_count": 13,
     "metadata": {},
     "output_type": "execute_result"
    }
   ],
   "source": [
    "selected[-10:]"
   ]
  },
  {
   "cell_type": "code",
   "execution_count": 15,
   "id": "7e87c08f",
   "metadata": {},
   "outputs": [],
   "source": [
    "selected[\"Tags\"] = selected[\"Tags\"].apply(lambda x: x.split(\"|\") if isinstance(x, str) else x)\n",
    "selected[\"Tags Wikidata URL\"] = selected[\"Tags Wikidata URL\"].apply(lambda x: x.split(\"|\") if isinstance(x, str) else x)\n",
    "selected[\"Tags AAT URL\"] = selected[\"Tags AAT URL\"].apply(lambda x: x.split(\"|\") if isinstance(x, str) else x)"
   ]
  },
  {
   "cell_type": "code",
   "execution_count": 35,
   "id": "15180698",
   "metadata": {},
   "outputs": [
    {
     "data": {
      "application/vnd.microsoft.datawrangler.viewer.v0+json": {
       "columns": [
        {
         "name": "index",
         "rawType": "int64",
         "type": "integer"
        },
        {
         "name": "Tags",
         "rawType": "object",
         "type": "string"
        },
        {
         "name": "count",
         "rawType": "int64",
         "type": "integer"
        }
       ],
       "ref": "c988b4dd-f415-42e3-bd9d-49a021a0aa42",
       "rows": [
        [
         "0",
         "Men",
         "1149"
        ],
        [
         "1",
         "Women",
         "1021"
        ],
        [
         "2",
         "Heads",
         "636"
        ],
        [
         "3",
         "Horses",
         "322"
        ],
        [
         "4",
         "Lions",
         "289"
        ],
        [
         "5",
         "Male Nudes",
         "252"
        ],
        [
         "6",
         "Birds",
         "214"
        ],
        [
         "7",
         "Satyrs",
         "192"
        ],
        [
         "8",
         "Eros",
         "188"
        ],
        [
         "9",
         "Animals",
         "163"
        ],
        [
         "10",
         "Bulls",
         "162"
        ],
        [
         "11",
         "Seals",
         "159"
        ],
        [
         "12",
         "Human Figures",
         "157"
        ],
        [
         "13",
         "Shields",
         "154"
        ],
        [
         "14",
         "Chariots",
         "133"
        ],
        [
         "15",
         "Boys",
         "114"
        ],
        [
         "16",
         "Herakles",
         "113"
        ],
        [
         "17",
         "Profiles",
         "109"
        ],
        [
         "18",
         "Dionysus",
         "98"
        ],
        [
         "19",
         "Helmets",
         "96"
        ],
        [
         "20",
         "Wreaths",
         "92"
        ],
        [
         "21",
         "Sphinx",
         "91"
        ],
        [
         "22",
         "Athena",
         "91"
        ],
        [
         "23",
         "Portraits",
         "89"
        ],
        [
         "24",
         "Maenads",
         "81"
        ],
        [
         "25",
         "Warriors",
         "76"
        ],
        [
         "26",
         "Musical Instruments",
         "74"
        ],
        [
         "27",
         "Scarabs",
         "73"
        ],
        [
         "28",
         "Masks",
         "71"
        ],
        [
         "29",
         "Dogs",
         "71"
        ],
        [
         "30",
         "Aphrodite",
         "69"
        ],
        [
         "31",
         "Goddess",
         "69"
        ],
        [
         "32",
         "Mirrors",
         "69"
        ],
        [
         "33",
         "Goats",
         "66"
        ],
        [
         "34",
         "Deer",
         "63"
        ],
        [
         "35",
         "Female Nudes",
         "60"
        ],
        [
         "36",
         "Leaves",
         "55"
        ],
        [
         "37",
         "Soldiers",
         "54"
        ],
        [
         "38",
         "Snakes",
         "53"
        ],
        [
         "39",
         "Hermes",
         "52"
        ],
        [
         "40",
         "Apollo",
         "51"
        ],
        [
         "41",
         "Nike",
         "51"
        ],
        [
         "42",
         "Griffins",
         "50"
        ],
        [
         "43",
         "Musicians",
         "49"
        ],
        [
         "44",
         "Spears",
         "46"
        ],
        [
         "45",
         "Faces",
         "46"
        ],
        [
         "46",
         "Rams",
         "44"
        ],
        [
         "47",
         "Girls",
         "43"
        ],
        [
         "48",
         "Hands",
         "40"
        ],
        [
         "49",
         "Feet",
         "40"
        ]
       ],
       "shape": {
        "columns": 2,
        "rows": 348
       }
      },
      "text/html": [
       "<div>\n",
       "<style scoped>\n",
       "    .dataframe tbody tr th:only-of-type {\n",
       "        vertical-align: middle;\n",
       "    }\n",
       "\n",
       "    .dataframe tbody tr th {\n",
       "        vertical-align: top;\n",
       "    }\n",
       "\n",
       "    .dataframe thead th {\n",
       "        text-align: right;\n",
       "    }\n",
       "</style>\n",
       "<table border=\"1\" class=\"dataframe\">\n",
       "  <thead>\n",
       "    <tr style=\"text-align: right;\">\n",
       "      <th></th>\n",
       "      <th>Tags</th>\n",
       "      <th>count</th>\n",
       "    </tr>\n",
       "  </thead>\n",
       "  <tbody>\n",
       "    <tr>\n",
       "      <th>0</th>\n",
       "      <td>Men</td>\n",
       "      <td>1149</td>\n",
       "    </tr>\n",
       "    <tr>\n",
       "      <th>1</th>\n",
       "      <td>Women</td>\n",
       "      <td>1021</td>\n",
       "    </tr>\n",
       "    <tr>\n",
       "      <th>2</th>\n",
       "      <td>Heads</td>\n",
       "      <td>636</td>\n",
       "    </tr>\n",
       "    <tr>\n",
       "      <th>3</th>\n",
       "      <td>Horses</td>\n",
       "      <td>322</td>\n",
       "    </tr>\n",
       "    <tr>\n",
       "      <th>4</th>\n",
       "      <td>Lions</td>\n",
       "      <td>289</td>\n",
       "    </tr>\n",
       "    <tr>\n",
       "      <th>...</th>\n",
       "      <td>...</td>\n",
       "      <td>...</td>\n",
       "    </tr>\n",
       "    <tr>\n",
       "      <th>343</th>\n",
       "      <td>Thrones</td>\n",
       "      <td>1</td>\n",
       "    </tr>\n",
       "    <tr>\n",
       "      <th>344</th>\n",
       "      <td>Tools</td>\n",
       "      <td>1</td>\n",
       "    </tr>\n",
       "    <tr>\n",
       "      <th>345</th>\n",
       "      <td>Actaeon</td>\n",
       "      <td>1</td>\n",
       "    </tr>\n",
       "    <tr>\n",
       "      <th>346</th>\n",
       "      <td>Acrobats</td>\n",
       "      <td>1</td>\n",
       "    </tr>\n",
       "    <tr>\n",
       "      <th>347</th>\n",
       "      <td>Zodiac</td>\n",
       "      <td>1</td>\n",
       "    </tr>\n",
       "  </tbody>\n",
       "</table>\n",
       "<p>348 rows × 2 columns</p>\n",
       "</div>"
      ],
      "text/plain": [
       "         Tags  count\n",
       "0         Men   1149\n",
       "1       Women   1021\n",
       "2       Heads    636\n",
       "3      Horses    322\n",
       "4       Lions    289\n",
       "..        ...    ...\n",
       "343   Thrones      1\n",
       "344     Tools      1\n",
       "345   Actaeon      1\n",
       "346  Acrobats      1\n",
       "347    Zodiac      1\n",
       "\n",
       "[348 rows x 2 columns]"
      ]
     },
     "execution_count": 35,
     "metadata": {},
     "output_type": "execute_result"
    }
   ],
   "source": [
    "selected.explode(\"Tags\").value_counts(\"Tags\").reset_index()"
   ]
  },
  {
   "cell_type": "code",
   "execution_count": 16,
   "id": "f8ed4bfa",
   "metadata": {},
   "outputs": [],
   "source": [
    "selected[\"Artist Nationality\"] = selected[\"Artist Nationality\"].apply(lambda x: x.split(\"|\") if isinstance(x, str) else x)"
   ]
  },
  {
   "cell_type": "code",
   "execution_count": 17,
   "id": "fd2f067c",
   "metadata": {},
   "outputs": [
    {
     "data": {
      "application/vnd.microsoft.datawrangler.viewer.v0+json": {
       "columns": [
        {
         "name": "Artist Nationality",
         "rawType": "object",
         "type": "unknown"
        },
        {
         "name": "count",
         "rawType": "int64",
         "type": "integer"
        }
       ],
       "ref": "84bada30-c2a3-4750-ba75-e77030b5739f",
       "rows": [
        [
         "[' ']",
         "2074"
        ],
        [
         "[' ', ' ']",
         "54"
        ],
        [
         "['Swiss']",
         "11"
        ],
        [
         "['British']",
         "2"
        ],
        [
         "[' ', ' ', ' ']",
         "1"
        ],
        [
         "['Roman']",
         "1"
        ],
        [
         "['Italian']",
         "1"
        ],
        [
         "['French']",
         "1"
        ]
       ],
       "shape": {
        "columns": 1,
        "rows": 8
       }
      },
      "text/plain": [
       "Artist Nationality\n",
       "[ ]          2074\n",
       "[ ,  ]         54\n",
       "[Swiss]        11\n",
       "[British]       2\n",
       "[ ,  ,  ]       1\n",
       "[Roman]         1\n",
       "[Italian]       1\n",
       "[French]        1\n",
       "Name: count, dtype: int64"
      ]
     },
     "execution_count": 17,
     "metadata": {},
     "output_type": "execute_result"
    }
   ],
   "source": [
    "selected[\"Artist Nationality\"].value_counts()"
   ]
  },
  {
   "cell_type": "code",
   "execution_count": 18,
   "id": "cfc699a3",
   "metadata": {},
   "outputs": [],
   "source": [
    "def is_list_of_empty_strings(val):\n",
    "    return isinstance(val, list) and all(str(x).strip() == \"\" for x in val)\n",
    "\n",
    "rows_to_null = selected[\"Artist Nationality\"].apply(is_list_of_empty_strings)\n",
    "\n",
    "selected.loc[rows_to_null, \"Artist Nationality\"] = np.nan  # or None if you prefer"
   ]
  },
  {
   "cell_type": "code",
   "execution_count": 19,
   "id": "0c3cf1d5",
   "metadata": {},
   "outputs": [
    {
     "data": {
      "application/vnd.microsoft.datawrangler.viewer.v0+json": {
       "columns": [
        {
         "name": "Artist Nationality",
         "rawType": "object",
         "type": "unknown"
        },
        {
         "name": "count",
         "rawType": "int64",
         "type": "integer"
        }
       ],
       "ref": "e1206358-4619-48a6-a6d8-1adcaddbe31c",
       "rows": [
        [
         "['Swiss']",
         "11"
        ],
        [
         "['British']",
         "2"
        ],
        [
         "['Roman']",
         "1"
        ],
        [
         "['Italian']",
         "1"
        ],
        [
         "['French']",
         "1"
        ]
       ],
       "shape": {
        "columns": 1,
        "rows": 5
       }
      },
      "text/plain": [
       "Artist Nationality\n",
       "[Swiss]      11\n",
       "[British]     2\n",
       "[Roman]       1\n",
       "[Italian]     1\n",
       "[French]      1\n",
       "Name: count, dtype: int64"
      ]
     },
     "execution_count": 19,
     "metadata": {},
     "output_type": "execute_result"
    }
   ],
   "source": [
    "selected[\"Artist Nationality\"].value_counts()"
   ]
  },
  {
   "cell_type": "code",
   "execution_count": 20,
   "id": "19ce1750",
   "metadata": {},
   "outputs": [],
   "source": [
    "selected[\"Artist Display Name\"] = selected[\"Artist Display Name\"].apply(lambda x: x.split(\"|\") if isinstance(x, str) else x)"
   ]
  },
  {
   "cell_type": "code",
   "execution_count": 21,
   "id": "0e21bf4d",
   "metadata": {},
   "outputs": [],
   "source": [
    "# Extract first size in parentheses ending with 'cm'\n",
    "# Regex explanation:\n",
    "# \\(           – match literal opening parenthesis\n",
    "# ([^()]*?cm)  – capture shortest content not containing () that ends in 'cm'\n",
    "# \\)           – match literal closing parenthesis\n",
    "\n",
    "selected['first_cm_raw'] = selected['Dimensions'].str.extract(r'\\(([^()]*?cm)\\)')\n",
    "\n",
    "# Extract only the first number in that cm block (e.g. \"134.6\")\n",
    "selected['cm_value'] = (\n",
    "    selected['first_cm_raw']\n",
    "    .str.replace('cm', '', regex=False)\n",
    "    .str.split('×')  # handles multi-dimensional sizes\n",
    "    .str[0]          # get first part\n",
    "    .str.strip()     # remove whitespace\n",
    ")\n",
    "\n",
    "selected['cm_value'] = pd.to_numeric(selected['cm_value'], errors='coerce')\n",
    "\n",
    "# A lot do not follow the pattern, so we will be NaN"
   ]
  },
  {
   "cell_type": "code",
   "execution_count": 22,
   "id": "7796b0c2",
   "metadata": {},
   "outputs": [
    {
     "data": {
      "text/plain": [
       "np.int64(22326)"
      ]
     },
     "execution_count": 22,
     "metadata": {},
     "output_type": "execute_result"
    }
   ],
   "source": [
    "selected['cm_value'].isna().sum()"
   ]
  },
  {
   "cell_type": "code",
   "execution_count": 23,
   "id": "e3179cf0",
   "metadata": {},
   "outputs": [
    {
     "data": {
      "text/plain": [
       "33726"
      ]
     },
     "execution_count": 23,
     "metadata": {},
     "output_type": "execute_result"
    }
   ],
   "source": [
    "len(selected[\"Object ID\"].unique())"
   ]
  },
  {
   "cell_type": "code",
   "execution_count": 24,
   "id": "2a304bcc",
   "metadata": {},
   "outputs": [
    {
     "data": {
      "application/vnd.microsoft.datawrangler.viewer.v0+json": {
       "columns": [
        {
         "name": "Department",
         "rawType": "object",
         "type": "string"
        },
        {
         "name": "count",
         "rawType": "int64",
         "type": "integer"
        }
       ],
       "ref": "0ba2f2d8-a8e5-4db4-91ff-c519e6025c9e",
       "rows": [
        [
         "Greek and Roman Art",
         "33726"
        ]
       ],
       "shape": {
        "columns": 1,
        "rows": 1
       }
      },
      "text/plain": [
       "Department\n",
       "Greek and Roman Art    33726\n",
       "Name: count, dtype: int64"
      ]
     },
     "execution_count": 24,
     "metadata": {},
     "output_type": "execute_result"
    }
   ],
   "source": [
    "selected[\"Department\"].value_counts()"
   ]
  },
  {
   "cell_type": "code",
   "execution_count": 25,
   "id": "a5ae354f",
   "metadata": {},
   "outputs": [
    {
     "data": {
      "application/vnd.microsoft.datawrangler.viewer.v0+json": {
       "columns": [
        {
         "name": "Period",
         "rawType": "object",
         "type": "string"
        },
        {
         "name": "count",
         "rawType": "int64",
         "type": "integer"
        }
       ],
       "ref": "ffab38d2-03db-41d7-81a9-25893242ab6b",
       "rows": [
        [
         "Archaic",
         "7719"
        ],
        [
         "Classical",
         "6954"
        ],
        [
         "Archaic/Classical",
         "1967"
        ],
        [
         "Early Imperial",
         "1247"
        ],
        [
         "Late Archaic",
         "1149"
        ],
        [
         "Hellenistic",
         "1098"
        ],
        [
         "Late Archaic/Early Classical",
         "770"
        ],
        [
         "Imperial",
         "741"
        ],
        [
         "Late Classical",
         "725"
        ],
        [
         "Late Imperial",
         "671"
        ],
        [
         "Archaic ",
         "432"
        ],
        [
         "Mid Imperial",
         "404"
        ],
        [
         "Geometric",
         "285"
        ],
        [
         "Archaic/Early Classical",
         "249"
        ],
        [
         "Cypro-Archaic II",
         "237"
        ],
        [
         "Early Classical",
         "228"
        ],
        [
         "Late Bronze Age",
         "223"
        ],
        [
         "Cypro-Archaic I",
         "195"
        ],
        [
         "Archaic /Classical",
         "187"
        ],
        [
         "Late Republican or Imperial",
         "186"
        ],
        [
         "Early Minoan III",
         "148"
        ],
        [
         "Early Imperial, Julio-Claudian",
         "139"
        ],
        [
         "Early Hellenistic",
         "131"
        ],
        [
         "Early to Mid Imperial",
         "122"
        ],
        [
         "Late Hellenistic",
         "110"
        ],
        [
         "Late Classical or Hellenistic",
         "107"
        ],
        [
         "Classical or Hellenistic",
         "102"
        ],
        [
         "Iron Age",
         "96"
        ],
        [
         "Early Minoan II",
         "90"
        ],
        [
         "Late Archaic/Classical",
         "83"
        ],
        [
         "Bronze Age",
         "78"
        ],
        [
         "Middle Cypriot",
         "77"
        ],
        [
         "Late Minoan I",
         "77"
        ],
        [
         "Archaic or Classical",
         "76"
        ],
        [
         "Late Cypriot",
         "68"
        ],
        [
         "Cypro-Geometric III",
         "64"
        ],
        [
         "Early Bronze Age",
         "64"
        ],
        [
         "Early Imperial, Augustan",
         "56"
        ],
        [
         "Helladic",
         "56"
        ],
        [
         "Late Republican",
         "54"
        ],
        [
         "Middle Minoan II",
         "53"
        ],
        [
         "Late Archaic ",
         "50"
        ],
        [
         "Late Hellenistic or Early Imperial",
         "49"
        ],
        [
         "Middle Minoan III–Late Minoan I",
         "44"
        ],
        [
         "Cypro-Geometric I",
         "42"
        ],
        [
         "Mid-Imperial",
         "42"
        ],
        [
         "Late Helladic IIIA",
         "41"
        ],
        [
         "Cypro-Classical II",
         "39"
        ],
        [
         "Early Helladic",
         "38"
        ],
        [
         "Neolithic, second period",
         "38"
        ]
       ],
       "shape": {
        "columns": 1,
        "rows": 470
       }
      },
      "text/plain": [
       "Period\n",
       "Archaic                             7719\n",
       "Classical                           6954\n",
       "Archaic/Classical                   1967\n",
       "Early Imperial                      1247\n",
       "Late Archaic                        1149\n",
       "                                    ... \n",
       "Antonine or Severan                    1\n",
       "Late Archaic /Early Classical          1\n",
       "Greek, Attic                           1\n",
       "Archaic/Classical                      1\n",
       "Early Cypriot III–Middle Cypriot       1\n",
       "Name: count, Length: 470, dtype: int64"
      ]
     },
     "execution_count": 25,
     "metadata": {},
     "output_type": "execute_result"
    }
   ],
   "source": [
    "selected[\"Period\"].value_counts()"
   ]
  },
  {
   "cell_type": "code",
   "execution_count": 26,
   "id": "43f1a655",
   "metadata": {},
   "outputs": [],
   "source": [
    "selected['AccessionYear'] = pd.to_datetime(df['AccessionYear'], format='%Y', errors='coerce')"
   ]
  },
  {
   "cell_type": "code",
   "execution_count": 27,
   "id": "ab1b9cbd",
   "metadata": {},
   "outputs": [],
   "source": [
    "# selected[\"Artist Gender\"] = selected[\"Artist Gender\"].fillna(\"Unknown\")"
   ]
  },
  {
   "cell_type": "code",
   "execution_count": 28,
   "id": "18aef10e",
   "metadata": {},
   "outputs": [],
   "source": [
    "# selected[selected[\"Artist Gender\"] == \"female\"]"
   ]
  },
  {
   "cell_type": "code",
   "execution_count": 29,
   "id": "5662ffd6",
   "metadata": {},
   "outputs": [
    {
     "data": {
      "application/vnd.microsoft.datawrangler.viewer.v0+json": {
       "columns": [
        {
         "name": "Artist Display Name",
         "rawType": "object",
         "type": "unknown"
        },
        {
         "name": "count",
         "rawType": "int64",
         "type": "integer"
        }
       ],
       "ref": "182f89a9-5257-4527-ae0a-37903e81022d",
       "rows": [
        [
         "['Makron']",
         "209"
        ],
        [
         "['Douris']",
         "47"
        ],
        [
         "['Antiphon Painter']",
         "40"
        ],
        [
         "['Brygos Painter']",
         "32"
        ],
        [
         "['Euaion Painter']",
         "32"
        ],
        [
         "['Colmar Painter']",
         "31"
        ],
        [
         "['Onesimos']",
         "27"
        ],
        [
         "['Apollodoros']",
         "27"
        ],
        [
         "['Penthesilea Painter']",
         "21"
        ],
        [
         "['Euergides Painter']",
         "21"
        ],
        [
         "['Painter of London D 12']",
         "20"
        ],
        [
         "['Oltos']",
         "20"
        ],
        [
         "['Painter of Berlin 2268']",
         "20"
        ],
        [
         "['Haimon Painter']",
         "19"
        ],
        [
         "['Triptolemos Painter']",
         "18"
        ],
        [
         "['Epeleios Painter']",
         "17"
        ],
        [
         "['Skythes']",
         "17"
        ],
        [
         "['Brygan']",
         "16"
        ],
        [
         "['Foundry Painter']",
         "15"
        ],
        [
         "['Epiktetos']",
         "15"
        ],
        [
         "['Achilles Painter']",
         "15"
        ],
        [
         "['Carlsruhe Painter']",
         "14"
        ],
        [
         "['Sabouroff Painter']",
         "14"
        ],
        [
         "['Ambrosios Painter']",
         "14"
        ],
        [
         "['Xenon Group']",
         "14"
        ],
        [
         "['Euphronios']",
         "14"
        ],
        [
         "['Painter of the Paris Gigantomachy']",
         "14"
        ],
        [
         "['Veii Painter']",
         "13"
        ],
        [
         "['Berlin Painter']",
         "13"
        ],
        [
         "['Baltimore Painter']",
         "13"
        ],
        [
         "['Briseis Painter']",
         "13"
        ],
        [
         "['Antimenes Painter']",
         "12"
        ],
        [
         "['Amasis Painter']",
         "12"
        ],
        [
         "['Stieglitz Painter']",
         "12"
        ],
        [
         "['Washing Painter']",
         "12"
        ],
        [
         "['Diosphos Painter']",
         "11"
        ],
        [
         "['Emile Gilliéron']",
         "11"
        ],
        [
         "['Telephos Painter']",
         "11"
        ],
        [
         "['Pistoxenos Painter']",
         "11"
        ],
        [
         "['Splanchnopt Painter']",
         "10"
        ],
        [
         "['Painter of Brussels R 330']",
         "10"
        ],
        [
         "['Angular Painter']",
         "9"
        ],
        [
         "['Meidias Painter']",
         "9"
        ],
        [
         "['Boot Painter']",
         "9"
        ],
        [
         "['Tarquinia Painter']",
         "9"
        ],
        [
         "['Eucharides Painter']",
         "9"
        ],
        [
         "['Painter of London E 777']",
         "9"
        ],
        [
         "['Nikosthenes Painter']",
         "9"
        ],
        [
         "['Hermonax']",
         "9"
        ],
        [
         "['Kleophrades Painter']",
         "9"
        ]
       ],
       "shape": {
        "columns": 1,
        "rows": 673
       }
      },
      "text/plain": [
       "Artist Display Name\n",
       "[Makron]                                      209\n",
       "[Douris]                                       47\n",
       "[Antiphon Painter]                             40\n",
       "[Brygos Painter]                               32\n",
       "[Euaion Painter]                               32\n",
       "                                             ... \n",
       "[Group of London E 614]                         1\n",
       "[Painter of Heidelberg 209]                     1\n",
       "[Euaion, potter]                                1\n",
       "[Painter of London E 100, Orleans Painter]      1\n",
       "[Black Fury Group]                              1\n",
       "Name: count, Length: 673, dtype: int64"
      ]
     },
     "execution_count": 29,
     "metadata": {},
     "output_type": "execute_result"
    }
   ],
   "source": [
    "selected[\"Artist Display Name\"].value_counts()"
   ]
  },
  {
   "cell_type": "code",
   "execution_count": 30,
   "id": "66472f10",
   "metadata": {},
   "outputs": [
    {
     "data": {
      "application/vnd.microsoft.datawrangler.viewer.v0+json": {
       "columns": [
        {
         "name": "index",
         "rawType": "int64",
         "type": "integer"
        },
        {
         "name": "index",
         "rawType": "int64",
         "type": "integer"
        },
        {
         "name": "Object ID",
         "rawType": "int64",
         "type": "integer"
        },
        {
         "name": "Department",
         "rawType": "object",
         "type": "string"
        },
        {
         "name": "AccessionYear",
         "rawType": "datetime64[ns]",
         "type": "datetime"
        },
        {
         "name": "Object Name",
         "rawType": "object",
         "type": "unknown"
        },
        {
         "name": "Title",
         "rawType": "object",
         "type": "string"
        },
        {
         "name": "Culture",
         "rawType": "object",
         "type": "unknown"
        },
        {
         "name": "Period",
         "rawType": "object",
         "type": "unknown"
        },
        {
         "name": "Medium",
         "rawType": "object",
         "type": "unknown"
        },
        {
         "name": "Classification",
         "rawType": "object",
         "type": "unknown"
        },
        {
         "name": "Credit Line",
         "rawType": "object",
         "type": "unknown"
        },
        {
         "name": "Object Wikidata URL",
         "rawType": "object",
         "type": "unknown"
        },
        {
         "name": "Tags",
         "rawType": "object",
         "type": "unknown"
        },
        {
         "name": "Tags AAT URL",
         "rawType": "object",
         "type": "unknown"
        },
        {
         "name": "Tags Wikidata URL",
         "rawType": "object",
         "type": "unknown"
        },
        {
         "name": "Artist Display Name",
         "rawType": "object",
         "type": "unknown"
        },
        {
         "name": "Artist Wikidata URL",
         "rawType": "object",
         "type": "unknown"
        },
        {
         "name": "Artist ULAN URL",
         "rawType": "object",
         "type": "unknown"
        },
        {
         "name": "Artist Nationality",
         "rawType": "object",
         "type": "unknown"
        },
        {
         "name": "Dimensions",
         "rawType": "object",
         "type": "unknown"
        },
        {
         "name": "first_cm_raw",
         "rawType": "object",
         "type": "unknown"
        },
        {
         "name": "cm_value",
         "rawType": "float64",
         "type": "float"
        }
       ],
       "ref": "d48b72df-769a-497c-b11a-8920d06aa21a",
       "rows": [
        [
         "0",
         "139012",
         "239584",
         "Greek and Roman Art",
         "1870-01-01 00:00:00",
         "Sarcophagus, garland",
         "Marble sarcophagus with garlands",
         "Roman",
         "Severan",
         "Marble, Proconnesian",
         "Stone Sculpture",
         "Gift of Abdo Debbas, 1870",
         "https://www.wikidata.org/wiki/Q29383708",
         "['Animals', 'Garlands', 'Hunting', 'Medusa']",
         "['http://vocab.getty.edu/page/aat/300249525', 'http://vocab.getty.edu/page/aat/300167386', 'http://vocab.getty.edu/page/aat/300239666', 'http://vocab.getty.edu/page/ia/901000543']",
         "['https://www.wikidata.org/wiki/Q729', 'https://www.wikidata.org/wiki/Q756600', 'https://www.wikidata.org/wiki/Q36963', 'https://www.wikidata.org/wiki/Q160730']",
         null,
         null,
         null,
         null,
         "Overall: 53 x 88in. (134.6 x 223.5cm)          \r\n",
         "134.6 x 223.5cm",
         null
        ],
        [
         "1",
         "139013",
         "239585",
         "Greek and Roman Art",
         "1874-01-01 00:00:00",
         "Pendant in the form of a vase",
         "Pendant in the form of a vase",
         "Greek",
         "Classical",
         "Gold",
         "Gold and Silver",
         "The Cesnola Collection, Purchased by subscription, 1874–76",
         "https://www.wikidata.org/wiki/Q116305682",
         null,
         null,
         null,
         null,
         null,
         null,
         null,
         "Other: 9/16 in. (1.4 cm)",
         "1.4 cm",
         "1.4"
        ],
        [
         "2",
         "139014",
         "239586",
         "Greek and Roman Art",
         "1874-01-01 00:00:00",
         "Bead",
         "Glass bead",
         "Greek",
         "Hellenistic",
         "Glass",
         "Glass",
         "The Cesnola Collection, Purchased by subscription, 1874–76",
         null,
         null,
         null,
         null,
         null,
         null,
         null,
         null,
         "L.: 1 in. (2.4 cm)\r\nDiam.:  3/8 in. (1.0 cm)",
         "2.4 cm",
         "2.4"
        ],
        [
         "3",
         "139015",
         "239587",
         "Greek and Roman Art",
         "1874-01-01 00:00:00",
         "Perfume bottle",
         "Glass perfume bottle",
         "Roman, Cypriot",
         "Mid Imperial",
         "Glass",
         "Glass",
         "The Cesnola Collection, Purchased by subscription, 1874–76",
         null,
         null,
         null,
         null,
         null,
         null,
         null,
         null,
         "6 5/8in. (16.8cm)\r\nOther: 3 5/8in. (9.2cm)\r\nDiam. of rim: 1 11/16 in. (4.3 cm)",
         "16.8cm",
         "16.8"
        ],
        [
         "4",
         "139016",
         "239588",
         "Greek and Roman Art",
         "1874-01-01 00:00:00",
         "Bead",
         "Glass eye bead",
         "Phoenician, Cypriot",
         "Archaic or Classical",
         "Glass",
         "Glass",
         "The Cesnola Collection, Purchased by subscription, 1874–76",
         null,
         null,
         null,
         null,
         null,
         null,
         null,
         null,
         "L.: 3/8 in. (1 cm)\r\nDiam.:  15/16 in. (0.9 cm)",
         "1 cm",
         "1.0"
        ],
        [
         "5",
         "139017",
         "239589",
         "Greek and Roman Art",
         "1874-01-01 00:00:00",
         "Candlestick perfume bottle",
         "Glass perfume bottle",
         "Roman",
         "Mid Imperial",
         "Glass",
         "Glass",
         "The Cesnola Collection, Purchased by subscription, 1874–76",
         null,
         null,
         null,
         null,
         null,
         null,
         null,
         null,
         "4 7/8in. (12.5cm)\r\nOther: 2 7/16in. (6.1cm)\r\nDiam. of rim: 1 in. (2.5 cm)",
         "12.5cm",
         "12.5"
        ],
        [
         "6",
         "139018",
         "239590",
         "Greek and Roman Art",
         "1874-01-01 00:00:00",
         "Candlestick perfume bottle",
         "Glass perfume bottle",
         "Roman",
         "Mid Imperial",
         "Glass",
         "Glass",
         "The Cesnola Collection, Purchased by subscription, 1874–76",
         null,
         null,
         null,
         null,
         null,
         null,
         null,
         null,
         "6 13/16in. (17.3cm)\r\nOther: 3 3/4in. (9.6cm)\r\nDiam. of rim: 1 1/2 in. (3.8 cm)",
         "17.3cm",
         "17.3"
        ],
        [
         "7",
         "139019",
         "239591",
         "Greek and Roman Art",
         "1874-01-01 00:00:00",
         "Perfume bottle",
         "Glass perfume bottle",
         "Roman",
         "Mid Imperial",
         "Glass",
         "Glass",
         "The Cesnola Collection, Purchased by subscription, 1874–76",
         null,
         null,
         null,
         null,
         null,
         null,
         null,
         null,
         "5 15/16in. (15.2cm)\r\nOther: 3 1/16in. (7.8cm)\r\nDiam. of rim: 1 3/8 in. (3.5 cm)",
         "15.2cm",
         "15.2"
        ],
        [
         "8",
         "139020",
         "239592",
         "Greek and Roman Art",
         "1874-01-01 00:00:00",
         "Candlestick perfume bottle",
         "Glass perfume bottle",
         "Roman",
         "Mid Imperial",
         "Glass",
         "Glass",
         "The Cesnola Collection, Purchased by subscription, 1874–76",
         null,
         null,
         null,
         null,
         null,
         null,
         null,
         null,
         "6 1/16in. (15.4cm)\r\nOther: 3 1/16in. (7.7cm)\r\nDiam. of rim: 1 1/4 in. (3.1 cm)",
         "15.4cm",
         "15.4"
        ],
        [
         "9",
         "139021",
         "239593",
         "Greek and Roman Art",
         "1874-01-01 00:00:00",
         "Bead",
         "Glass bead",
         "Greek",
         "Hellenistic",
         "Glass",
         "Glass",
         "The Cesnola Collection, Purchased by subscription, 1874–76",
         null,
         null,
         null,
         null,
         null,
         null,
         null,
         null,
         "L. 7/8 in. (2.2 cm)\r\ndiameter  7/16 in. (1.1 cm)",
         "2.2 cm",
         "2.2"
        ],
        [
         "10",
         "139022",
         "239595",
         "Greek and Roman Art",
         "1874-01-01 00:00:00",
         "Bead",
         "Glass bead",
         "Roman or Byzantine",
         "Late Roman or Early Byzantine",
         "Glass",
         "Glass",
         "The Cesnola Collection, Purchased by subscription, 1874–76",
         null,
         null,
         null,
         null,
         null,
         null,
         null,
         null,
         "L.: 3/8 in. (1 cm)\r\nDiam.: 1/2 in. (1.3 cm)",
         "1 cm",
         "1.0"
        ],
        [
         "11",
         "139023",
         "239596",
         "Greek and Roman Art",
         "1874-01-01 00:00:00",
         "Bead",
         "Glass bead",
         "Cypriot",
         "Archaic or Classical",
         "Glass",
         "Glass",
         "The Cesnola Collection, Purchased by subscription, 1874–76",
         null,
         null,
         null,
         null,
         null,
         null,
         null,
         null,
         "L.: 15/16in. (2.5 cm)\r\nDiam.: 3/8in. (1 cm)",
         "2.5 cm",
         "2.5"
        ],
        [
         "12",
         "139024",
         "239597",
         "Greek and Roman Art",
         "1874-01-01 00:00:00",
         "Candlestick perfume bottle",
         "Glass perfume bottle",
         "Roman",
         "Mid Imperial",
         "Glass",
         "Glass",
         "The Cesnola Collection, Purchased by subscription, 1874–76",
         null,
         null,
         null,
         null,
         null,
         null,
         null,
         null,
         "4 3/4in. (12.1cm)\r\nOther: 2 1/2 in. (6.3 cm)\r\nDiam. of rim: 1 in. (2.6 cm)",
         "12.1cm",
         "12.1"
        ],
        [
         "13",
         "139025",
         "239598",
         "Greek and Roman Art",
         "1874-01-01 00:00:00",
         "Bead",
         "Glass eye bead",
         "Phoenician",
         "Hellenistic",
         "Glass",
         "Glass",
         "The Cesnola Collection, Purchased by subscription, 1874–76",
         null,
         null,
         null,
         null,
         null,
         null,
         null,
         null,
         "L.: 3/8 in. (1 cm)\r\nDiam.: 9/16 in. (1.4 cm)",
         "1 cm",
         "1.0"
        ],
        [
         "14",
         "139026",
         "239600",
         "Greek and Roman Art",
         "1874-01-01 00:00:00",
         "Candlestick perfume bottle",
         "Glass perfume bottle",
         "Roman, Cypriot",
         "Mid Imperial",
         "Glass",
         "Glass",
         "The Cesnola Collection, Purchased by subscription, 1874–76",
         null,
         null,
         null,
         null,
         null,
         null,
         null,
         null,
         "6 13/16in. (17.3cm)\r\nOther: 4 1/2 in. (11.4 cm)\r\nDiam. of rim: 1 15/16 in. (4.9 cm)",
         "17.3cm",
         "17.3"
        ],
        [
         "15",
         "139027",
         "239601",
         "Greek and Roman Art",
         "1874-01-01 00:00:00",
         "Candlestick perfume bottle",
         "Glass perfume bottle",
         "Roman, Cypriot",
         "Mid Imperial",
         "Glass",
         "Glass",
         "The Cesnola Collection, Purchased by subscription, 1874–76",
         "https://www.wikidata.org/wiki/Q116305675",
         null,
         null,
         null,
         null,
         null,
         null,
         null,
         "9 3/4 in. (24.8 cm)\r\nOther: 6 1/8 in. (15.6 cm)\r\nOther (rim): 2 1/4 in. (5.7 cm)",
         "24.8 cm",
         "24.8"
        ],
        [
         "16",
         "139028",
         "239602",
         "Greek and Roman Art",
         "1874-01-01 00:00:00",
         "Candlestick perfume bottle",
         "Glass perfume bottle",
         "Roman, Cypriot",
         "Mid Imperial",
         "Glass",
         "Glass",
         "The Cesnola Collection, Purchased by subscription, 1874–76",
         null,
         null,
         null,
         null,
         null,
         null,
         null,
         null,
         "6 3/4in. (17.2cm)\r\nOther: 3 3/8in. (8.6cm)\r\nDiam. of rim: 1 5/8 in. (4.1 cm)",
         "17.2cm",
         "17.2"
        ],
        [
         "17",
         "139029",
         "239603",
         "Greek and Roman Art",
         "1874-01-01 00:00:00",
         "Candlestick perfume bottle",
         "Glass perfume bottle",
         "Roman",
         "Mid Imperial",
         "Glass",
         "Glass",
         "The Cesnola Collection, Purchased by subscription, 1874–76",
         null,
         null,
         null,
         null,
         null,
         null,
         null,
         null,
         "7 3/8in. (18.7cm)\r\nOther: 3 7/8in. (9.8cm)\r\nDiam. of rim: 1 5/8 in. (4.1 cm)",
         "18.7cm",
         "18.7"
        ],
        [
         "18",
         "139030",
         "239604",
         "Greek and Roman Art",
         "1874-01-01 00:00:00",
         "Candlestick perfume bottle",
         "Glass perfume bottle",
         "Roman",
         "Mid Imperial",
         "Glass",
         "Glass",
         "The Cesnola Collection, Purchased by subscription, 1874–76",
         null,
         null,
         null,
         null,
         null,
         null,
         null,
         null,
         "Other: 6 3/4 x 3 3/4 x 1 3/8 in. (17.1 x 9.5 x 3.5 cm)",
         "17.1 x 9.5 x 3.5 cm",
         null
        ],
        [
         "19",
         "139031",
         "239605",
         "Greek and Roman Art",
         "1874-01-01 00:00:00",
         "Perfume bottle",
         "Glass perfume bottle",
         "Roman",
         "Mid Imperial",
         "Glass",
         "Glass",
         "The Cesnola Collection, Purchased by subscription, 1874–76",
         null,
         null,
         null,
         null,
         null,
         null,
         null,
         null,
         "6 5/16in. (16.1cm)\r\nOther: 2 11/16 in. (6.8 cm)\r\nDiam. of rim: 1 3/8 in. (3.5 cm)",
         "16.1cm",
         "16.1"
        ],
        [
         "20",
         "139032",
         "239606",
         "Greek and Roman Art",
         "1874-01-01 00:00:00",
         "Perfume bottle",
         "Glass perfume bottle",
         "Roman",
         "Mid Imperial",
         "Glass",
         "Glass",
         "The Cesnola Collection, Purchased by subscription, 1874–76",
         null,
         null,
         null,
         null,
         null,
         null,
         null,
         null,
         "2 11/16 in. (6.9 cm)\r\nOther: 1 9/16in. (4cm)\r\nDiam. of rim: 3/4 in. (1.9 cm)",
         "6.9 cm",
         "6.9"
        ],
        [
         "21",
         "139033",
         "239607",
         "Greek and Roman Art",
         "1874-01-01 00:00:00",
         "Perfume bottle",
         "Glass perfume bottle",
         "Roman",
         "Mid Imperial",
         "Glass",
         "Glass",
         "The Cesnola Collection, Purchased by subscription, 1874–76",
         null,
         null,
         null,
         null,
         null,
         null,
         null,
         null,
         "6 1/8in. (15.5cm)\r\nOther: 3 1/4in. (8.3cm)\r\nDiam. of rim: 1 3/8 in. (3.5 cm)",
         "15.5cm",
         "15.5"
        ],
        [
         "22",
         "139034",
         "239608",
         "Greek and Roman Art",
         "1874-01-01 00:00:00",
         "Perfume bottle",
         "Glass perfume bottle",
         "Roman",
         "Mid Imperial",
         "Glass",
         "Glass",
         "The Cesnola Collection, Purchased by subscription, 1874–76",
         null,
         null,
         null,
         null,
         null,
         null,
         null,
         null,
         "4 3/4in. (12.1cm)\r\nOther: 2 5/8 in. (6.6 cm)\r\nDiam. of rim: 1 1/8 in. (2.8 cm)",
         "12.1cm",
         "12.1"
        ],
        [
         "23",
         "139035",
         "239609",
         "Greek and Roman Art",
         "1874-01-01 00:00:00",
         "Flask",
         "Glass flask",
         "Roman",
         "Mid Imperial",
         "Glass",
         "Glass",
         "The Cesnola Collection, Purchased by subscription, 1874–76",
         null,
         null,
         null,
         null,
         null,
         null,
         null,
         null,
         "6 7/16 in. (16.4 cm)\r\nOther: 2 15/16 in. (7.4 cm)\r\nDiam. of rim: 1 13/16 in. (4.6 cm)",
         "16.4 cm",
         "16.4"
        ],
        [
         "24",
         "139036",
         "239610",
         "Greek and Roman Art",
         "1874-01-01 00:00:00",
         "Perfume bottle",
         "Glass perfume bottle",
         "Roman",
         "Early or Mid Imperial",
         "Glass",
         "Glass",
         "The Cesnola Collection, Purchased by subscription, 1874–76",
         null,
         null,
         null,
         null,
         null,
         null,
         null,
         null,
         "6 1/16in. (15.5cm)\r\nOther: 3 11/16in. (9.4cm)\r\nDiam. of rim: 1 5/8 in. (4.2 cm)",
         "15.5cm",
         "15.5"
        ],
        [
         "25",
         "139037",
         "239611",
         "Greek and Roman Art",
         "1874-01-01 00:00:00",
         "Perfume bottle",
         "Glass perfume bottle",
         "Roman",
         "Mid Imperial",
         "Glass",
         "Glass",
         "The Cesnola Collection, Purchased by subscription, 1874–76",
         null,
         null,
         null,
         null,
         null,
         null,
         null,
         null,
         "5 1/4in. (13.3cm)\r\nOther: 2 5/8in. (6.7cm)\r\nDiam. of rim: 1 1/4 in. (3.1 cm)",
         "13.3cm",
         "13.3"
        ],
        [
         "26",
         "139038",
         "239612",
         "Greek and Roman Art",
         "1874-01-01 00:00:00",
         "Bottle",
         "Glass perfume bottle",
         "Roman",
         "Early Imperial",
         "Glass",
         "Glass",
         "The Cesnola Collection, Purchased by subscription, 1874–76",
         "https://www.wikidata.org/wiki/Q116305665",
         null,
         null,
         null,
         null,
         null,
         null,
         null,
         "4 1/2 in. (11.5 cm)\r\nOther: 1 3/8 in. (3.5 cm)\r\nDiam. of rim: 3/4 in. (2 cm)",
         "11.5 cm",
         "11.5"
        ],
        [
         "27",
         "139039",
         "239613",
         "Greek and Roman Art",
         "1874-01-01 00:00:00",
         "Jar",
         "Glass jar",
         "Roman, Eastern Mediterranean",
         "Late Imperial",
         "Glass",
         "Glass",
         "The Cesnola Collection, Purchased by subscription, 1874–76",
         null,
         null,
         null,
         null,
         null,
         null,
         null,
         null,
         "2 5/16 in. (5.8 cm)\r\nOther: 2 3/16 in. (5.6 cm)\r\nDiam. of rim: 1 1/2 in. (3.8 cm)",
         "5.8 cm",
         "5.8"
        ],
        [
         "28",
         "139040",
         "239614",
         "Greek and Roman Art",
         "1874-01-01 00:00:00",
         "Flask",
         "Glass flask",
         "Roman",
         "Late Imperial",
         "Glass",
         "Glass",
         "The Cesnola Collection, Purchased by subscription, 1874–76",
         null,
         null,
         null,
         null,
         null,
         null,
         null,
         null,
         "3 7/8 in. (9.8 cm)\r\nOther: 2 11/16 in. (6.8 cm)\r\nDiam. of rim: 1 7/16 in. (3.7 cm)",
         "9.8 cm",
         "9.8"
        ],
        [
         "29",
         "139041",
         "239615",
         "Greek and Roman Art",
         "1874-01-01 00:00:00",
         "Flask",
         "Glass flask",
         "Roman",
         "Late Imperial",
         "Glass",
         "Glass",
         "The Cesnola Collection, Purchased by subscription, 1874–76",
         null,
         null,
         null,
         null,
         null,
         null,
         null,
         null,
         "3 9/16 in. (9.1 cm)\r\nOther: 2 7/16 in. (6.2 cm)\r\nDiam. of rim: 1 7/16 in. (3.7 cm)",
         "9.1 cm",
         "9.1"
        ],
        [
         "30",
         "139042",
         "239616",
         "Greek and Roman Art",
         "1874-01-01 00:00:00",
         "Flask or jar",
         "Glass flask",
         "Roman",
         "Late Imperial",
         "Glass",
         "Glass",
         "The Cesnola Collection, Purchased by subscription, 1874–76",
         null,
         null,
         null,
         null,
         null,
         null,
         null,
         null,
         "4 3/16 in. (10.6 cm)\r\nOther: 2 3/4 in. (7 cm)\r\nDiam. of rim: 2 3/4 in. (6.9 cm)",
         "10.6 cm",
         "10.6"
        ],
        [
         "31",
         "139043",
         "239617",
         "Greek and Roman Art",
         "1874-01-01 00:00:00",
         "Perfume bottle",
         "Glass perfume bottle",
         "Roman, Cypriot",
         "Early Imperial",
         "Glass",
         "Glass",
         "The Cesnola Collection, Purchased by subscription, 1874–76",
         null,
         null,
         null,
         null,
         null,
         null,
         null,
         null,
         "3 15/16in. (10cm)\r\nOther: 1 7/8in. (4.8cm)\r\nDiam. of rim: 13/16 in. (2 cm)",
         "10cm",
         "10.0"
        ],
        [
         "32",
         "139044",
         "239618",
         "Greek and Roman Art",
         "1874-01-01 00:00:00",
         "Perfume bottle",
         "Glass perfume bottle",
         "Roman",
         "Early or Mid Imperial",
         "Glass",
         "Glass",
         "The Cesnola Collection, Purchased by subscription, 1874–76",
         "https://www.wikidata.org/wiki/Q116305656",
         null,
         null,
         null,
         null,
         null,
         null,
         null,
         "4 1/16 in. (10.3 cm)\r\nOther: 2 1/16 in. (5.3 cm)\r\nDiam. of rim: 3/4 in. (2 cm)",
         "10.3 cm",
         "10.3"
        ],
        [
         "33",
         "139045",
         "239619",
         "Greek and Roman Art",
         "1874-01-01 00:00:00",
         "Perfume bottle",
         "Glass perfume bottle",
         "Roman",
         "Early Imperial",
         "Glass",
         "Glass",
         "The Cesnola Collection, Purchased by subscription, 1874–76",
         null,
         null,
         null,
         null,
         null,
         null,
         null,
         null,
         "H.: 5in. (12.7cm)\r\nDiam.: 2 1/16in. (5.2cm)",
         "12.7cm",
         "12.7"
        ],
        [
         "34",
         "139046",
         "239620",
         "Greek and Roman Art",
         "1874-01-01 00:00:00",
         "Jar",
         "Glass flask",
         "Roman",
         "Mid or Late Imperial",
         "Glass",
         "Glass",
         "The Cesnola Collection, Purchased by subscription, 1874–76",
         null,
         null,
         null,
         null,
         null,
         null,
         null,
         null,
         "3 1/8 in. (7.9 cm)\r\nOther: 2 9/16 in. (6.5 cm)\r\nDiam. of rim: 1 11/16 in. (4.3 cm)",
         "7.9 cm",
         "7.9"
        ],
        [
         "35",
         "139047",
         "239621",
         "Greek and Roman Art",
         "1874-01-01 00:00:00",
         "Perfume bottle",
         "Glass perfume bottle",
         "Roman",
         "Mid Imperial",
         "Glass",
         "Glass",
         "The Cesnola Collection, Purchased by subscription, 1874–76",
         null,
         null,
         null,
         null,
         null,
         null,
         null,
         null,
         "3 1/8 in. (8 cm)\r\nOther: 2 3/8 in. (6.1 cm)\r\nDiam. of rim: 3/4 in. (2 cm)",
         "8 cm",
         "8.0"
        ],
        [
         "36",
         "139048",
         "239622",
         "Greek and Roman Art",
         "1874-01-01 00:00:00",
         "Bottle",
         "Glass bottle",
         "Roman",
         "Mid Imperial",
         "Glass",
         "Glass",
         "The Cesnola Collection, Purchased by subscription, 1874–76",
         null,
         null,
         null,
         null,
         null,
         null,
         null,
         null,
         "3 7/16 in. (8.7 cm)\r\nOther: 2 11/16 in. (6.8 cm)\r\nDiam. of rim: 15/16 in. (2.4 cm)",
         "8.7 cm",
         "8.7"
        ],
        [
         "37",
         "139049",
         "239623",
         "Greek and Roman Art",
         "1874-01-01 00:00:00",
         "Perfume bottle",
         "Glass perfume bottle",
         "Roman",
         "Early Imperial",
         "Glass",
         "Glass",
         "The Cesnola Collection, Purchased by subscription, 1874–76",
         null,
         null,
         null,
         null,
         null,
         null,
         null,
         null,
         "4 15/16in. (12.5cm)\r\nOther: 2 1/16 in. (5.2 cm)\r\nDiam. of rim: 15/16 in. (2.4 cm)",
         "12.5cm",
         "12.5"
        ],
        [
         "38",
         "139050",
         "239624",
         "Greek and Roman Art",
         "1874-01-01 00:00:00",
         "Perfume bottle",
         "Glass perfume bottle",
         "Roman",
         "Mid or Late Imperial",
         "Glass",
         "Glass",
         "The Cesnola Collection, Purchased by subscription, 1874–76",
         null,
         null,
         null,
         null,
         null,
         null,
         null,
         null,
         "5 1/2in. (14cm)\r\nOther: 2 5/8 in. (6.6 cm)\r\nDiam. of rim: 1 1/8 in. (2.9 cm)",
         "14cm",
         "14.0"
        ],
        [
         "39",
         "139051",
         "239625",
         "Greek and Roman Art",
         "1874-01-01 00:00:00",
         "Bottle",
         "Glass perfume bottle",
         "Roman",
         "Early Imperial",
         "Glass",
         "Glass",
         "The Cesnola Collection, Purchased by subscription, 1874–76",
         null,
         null,
         null,
         null,
         null,
         null,
         null,
         null,
         "3 15/16in. (10cm)\r\nOther: 2 11/16in. (6.8cm)\r\nDiam. of rim: 1 in. (2.6 cm)",
         "10cm",
         "10.0"
        ],
        [
         "40",
         "139052",
         "239626",
         "Greek and Roman Art",
         "1874-01-01 00:00:00",
         "Perfume bottle",
         "Glass perfume bottle",
         "Roman",
         "Mid or Late Imperial",
         "Glass",
         "Glass",
         "The Cesnola Collection, Purchased by subscription, 1874–76",
         null,
         null,
         null,
         null,
         null,
         null,
         null,
         null,
         "7 3/4in. (19.7cm)\r\nOther: 1 3/4in. (4.5cm)\r\nDiam. of rim: 1 3/16 in. (3 cm)",
         "19.7cm",
         "19.7"
        ],
        [
         "41",
         "139053",
         "239627",
         "Greek and Roman Art",
         "1874-01-01 00:00:00",
         "Perfume bottle",
         "Glass perfume bottle",
         "Roman",
         "Early or Mid Imperial",
         "Glass",
         "Glass",
         "The Cesnola Collection, Purchased by subscription, 1874–76",
         null,
         null,
         null,
         null,
         null,
         null,
         null,
         null,
         "2 9/16in. (6.5cm)\r\nOther: 1 15/16 in. (5 cm)\r\nDiam. of rim: 13/16 in. (2.1 cm)",
         "6.5cm",
         "6.5"
        ],
        [
         "42",
         "139054",
         "239628",
         "Greek and Roman Art",
         "1874-01-01 00:00:00",
         "Bottle",
         "Glass perfume bottle",
         "Roman",
         "Mid Imperial",
         "Glass",
         "Glass",
         "The Cesnola Collection, Purchased by subscription, 1874–76",
         null,
         null,
         null,
         null,
         null,
         null,
         null,
         null,
         "3 3/4 in. (9.6 cm)\r\nOther: 2 11/16 in. (6.8 cm)\r\nDiam. of rim: 7/8 in. (2.2 cm)",
         "9.6 cm",
         "9.6"
        ],
        [
         "43",
         "139055",
         "239629",
         "Greek and Roman Art",
         "1874-01-01 00:00:00",
         "Perfume bottle",
         "Glass perfume bottle",
         "Roman",
         "Early Imperial",
         "Glass",
         "Glass",
         "The Cesnola Collection, Purchased by subscription, 1874–76",
         null,
         null,
         null,
         null,
         null,
         null,
         null,
         null,
         "4 11/16in. (11.8cm)\r\nOther: 2 3/4in. (7cm)\r\nDiam. of rim: 7/8 in. (2.3 cm)",
         "11.8cm",
         "11.8"
        ],
        [
         "44",
         "139056",
         "239630",
         "Greek and Roman Art",
         "1874-01-01 00:00:00",
         "Perfume bottle",
         "Glass perfume bottle",
         "Roman",
         "Early or Mid Imperial",
         "Glass",
         "Glass",
         "The Cesnola Collection, Purchased by subscription, 1874–76",
         null,
         null,
         null,
         null,
         null,
         null,
         null,
         null,
         "4 7/16in. (11.3cm)\r\nOther: 2 1/16 in. (5.3 cm)\r\nDiam. of rim: 15/16 in. (2.4 cm)",
         "11.3cm",
         "11.3"
        ],
        [
         "45",
         "139057",
         "239631",
         "Greek and Roman Art",
         "1874-01-01 00:00:00",
         "Perfume bottle",
         "Glass perfume bottle",
         "Roman",
         "Early or Mid Imperial",
         "Glass",
         "Glass",
         "The Cesnola Collection, Purchased by subscription, 1874–76",
         null,
         null,
         null,
         null,
         null,
         null,
         null,
         null,
         "4 1/2in. (11.5cm)\r\nOther: 2 3/16in. (5.5cm)\r\nDiam. of rim: 1 1/8 in. (2.8 cm)",
         "11.5cm",
         "11.5"
        ],
        [
         "46",
         "139058",
         "239632",
         "Greek and Roman Art",
         "1874-01-01 00:00:00",
         "Jar",
         "Glass miniature jar",
         "Roman",
         "Mid or Late Imperial",
         "Glass",
         "Glass",
         "The Cesnola Collection, Purchased by subscription, 1874–76",
         null,
         null,
         null,
         null,
         null,
         null,
         null,
         null,
         "1 5/8 in. (4.1 cm)\r\nOther: 1 13/16 in. (4.6 cm)\r\nDiam. of rim: 1 7/16 in. (3.6 cm)",
         "4.1 cm",
         "4.1"
        ],
        [
         "47",
         "139059",
         "239633",
         "Greek and Roman Art",
         "1874-01-01 00:00:00",
         "Flask",
         "Glass flask",
         "Roman",
         "Mid or Late Imperial",
         "Glass",
         "Glass",
         "The Cesnola Collection, Purchased by subscription, 1874–76",
         null,
         null,
         null,
         null,
         null,
         null,
         null,
         null,
         "4 7/8 in. (12.5 cm)\r\nOther: 3 9/16 in. (9.1 cm)\r\nDiam. of rim: 1 1/2 in. (3.9 cm)\r\nDiam. of foot: 2 in. (5.1 cm)",
         "12.5 cm",
         "12.5"
        ],
        [
         "48",
         "139060",
         "239634",
         "Greek and Roman Art",
         "1874-01-01 00:00:00",
         "Bottle",
         "Glass perfume bottle",
         "Roman, Cypriot",
         "Early Imperial",
         "Glass",
         "Glass",
         "The Cesnola Collection, Purchased by subscription, 1874–76",
         "https://www.wikidata.org/wiki/Q116305620",
         null,
         null,
         null,
         null,
         null,
         null,
         null,
         "6 7/8 in. (17.5 cm)\r\nOther: 1 11/16 in. (4.3 cm)\r\nDiam. of rim: 3/4 in. (1.9 cm)",
         "17.5 cm",
         "17.5"
        ],
        [
         "49",
         "139061",
         "239635",
         "Greek and Roman Art",
         "1874-01-01 00:00:00",
         "Perfume bottle",
         "Glass perfume bottle",
         "Roman",
         "Mid or Late Imperial",
         "Glass",
         "Glass",
         "The Cesnola Collection, Purchased by subscription, 1874–76",
         null,
         null,
         null,
         null,
         null,
         null,
         null,
         null,
         "5 7/8in. (15cm)\r\nOther: 3 3/8in. (8.6cm)\r\nDiam. of rim: 1 5/16 in. (3.3 cm)",
         "15cm",
         "15.0"
        ]
       ],
       "shape": {
        "columns": 22,
        "rows": 33726
       }
      },
      "text/html": [
       "<div>\n",
       "<style scoped>\n",
       "    .dataframe tbody tr th:only-of-type {\n",
       "        vertical-align: middle;\n",
       "    }\n",
       "\n",
       "    .dataframe tbody tr th {\n",
       "        vertical-align: top;\n",
       "    }\n",
       "\n",
       "    .dataframe thead th {\n",
       "        text-align: right;\n",
       "    }\n",
       "</style>\n",
       "<table border=\"1\" class=\"dataframe\">\n",
       "  <thead>\n",
       "    <tr style=\"text-align: right;\">\n",
       "      <th></th>\n",
       "      <th>index</th>\n",
       "      <th>Object ID</th>\n",
       "      <th>Department</th>\n",
       "      <th>AccessionYear</th>\n",
       "      <th>Object Name</th>\n",
       "      <th>Title</th>\n",
       "      <th>Culture</th>\n",
       "      <th>Period</th>\n",
       "      <th>Medium</th>\n",
       "      <th>Classification</th>\n",
       "      <th>...</th>\n",
       "      <th>Tags</th>\n",
       "      <th>Tags AAT URL</th>\n",
       "      <th>Tags Wikidata URL</th>\n",
       "      <th>Artist Display Name</th>\n",
       "      <th>Artist Wikidata URL</th>\n",
       "      <th>Artist ULAN URL</th>\n",
       "      <th>Artist Nationality</th>\n",
       "      <th>Dimensions</th>\n",
       "      <th>first_cm_raw</th>\n",
       "      <th>cm_value</th>\n",
       "    </tr>\n",
       "  </thead>\n",
       "  <tbody>\n",
       "    <tr>\n",
       "      <th>0</th>\n",
       "      <td>139012</td>\n",
       "      <td>239584</td>\n",
       "      <td>Greek and Roman Art</td>\n",
       "      <td>1870-01-01</td>\n",
       "      <td>Sarcophagus, garland</td>\n",
       "      <td>Marble sarcophagus with garlands</td>\n",
       "      <td>Roman</td>\n",
       "      <td>Severan</td>\n",
       "      <td>Marble, Proconnesian</td>\n",
       "      <td>Stone Sculpture</td>\n",
       "      <td>...</td>\n",
       "      <td>[Animals, Garlands, Hunting, Medusa]</td>\n",
       "      <td>[http://vocab.getty.edu/page/aat/300249525, ht...</td>\n",
       "      <td>[https://www.wikidata.org/wiki/Q729, https://w...</td>\n",
       "      <td>NaN</td>\n",
       "      <td>NaN</td>\n",
       "      <td>NaN</td>\n",
       "      <td>NaN</td>\n",
       "      <td>Overall: 53 x 88in. (134.6 x 223.5cm)         ...</td>\n",
       "      <td>134.6 x 223.5cm</td>\n",
       "      <td>NaN</td>\n",
       "    </tr>\n",
       "    <tr>\n",
       "      <th>1</th>\n",
       "      <td>139013</td>\n",
       "      <td>239585</td>\n",
       "      <td>Greek and Roman Art</td>\n",
       "      <td>1874-01-01</td>\n",
       "      <td>Pendant in the form of a vase</td>\n",
       "      <td>Pendant in the form of a vase</td>\n",
       "      <td>Greek</td>\n",
       "      <td>Classical</td>\n",
       "      <td>Gold</td>\n",
       "      <td>Gold and Silver</td>\n",
       "      <td>...</td>\n",
       "      <td>NaN</td>\n",
       "      <td>NaN</td>\n",
       "      <td>NaN</td>\n",
       "      <td>NaN</td>\n",
       "      <td>NaN</td>\n",
       "      <td>NaN</td>\n",
       "      <td>NaN</td>\n",
       "      <td>Other: 9/16 in. (1.4 cm)</td>\n",
       "      <td>1.4 cm</td>\n",
       "      <td>1.4</td>\n",
       "    </tr>\n",
       "    <tr>\n",
       "      <th>2</th>\n",
       "      <td>139014</td>\n",
       "      <td>239586</td>\n",
       "      <td>Greek and Roman Art</td>\n",
       "      <td>1874-01-01</td>\n",
       "      <td>Bead</td>\n",
       "      <td>Glass bead</td>\n",
       "      <td>Greek</td>\n",
       "      <td>Hellenistic</td>\n",
       "      <td>Glass</td>\n",
       "      <td>Glass</td>\n",
       "      <td>...</td>\n",
       "      <td>NaN</td>\n",
       "      <td>NaN</td>\n",
       "      <td>NaN</td>\n",
       "      <td>NaN</td>\n",
       "      <td>NaN</td>\n",
       "      <td>NaN</td>\n",
       "      <td>NaN</td>\n",
       "      <td>L.: 1 in. (2.4 cm)\\r\\nDiam.:  3/8 in. (1.0 cm)</td>\n",
       "      <td>2.4 cm</td>\n",
       "      <td>2.4</td>\n",
       "    </tr>\n",
       "    <tr>\n",
       "      <th>3</th>\n",
       "      <td>139015</td>\n",
       "      <td>239587</td>\n",
       "      <td>Greek and Roman Art</td>\n",
       "      <td>1874-01-01</td>\n",
       "      <td>Perfume bottle</td>\n",
       "      <td>Glass perfume bottle</td>\n",
       "      <td>Roman, Cypriot</td>\n",
       "      <td>Mid Imperial</td>\n",
       "      <td>Glass</td>\n",
       "      <td>Glass</td>\n",
       "      <td>...</td>\n",
       "      <td>NaN</td>\n",
       "      <td>NaN</td>\n",
       "      <td>NaN</td>\n",
       "      <td>NaN</td>\n",
       "      <td>NaN</td>\n",
       "      <td>NaN</td>\n",
       "      <td>NaN</td>\n",
       "      <td>6 5/8in. (16.8cm)\\r\\nOther: 3 5/8in. (9.2cm)\\r...</td>\n",
       "      <td>16.8cm</td>\n",
       "      <td>16.8</td>\n",
       "    </tr>\n",
       "    <tr>\n",
       "      <th>4</th>\n",
       "      <td>139016</td>\n",
       "      <td>239588</td>\n",
       "      <td>Greek and Roman Art</td>\n",
       "      <td>1874-01-01</td>\n",
       "      <td>Bead</td>\n",
       "      <td>Glass eye bead</td>\n",
       "      <td>Phoenician, Cypriot</td>\n",
       "      <td>Archaic or Classical</td>\n",
       "      <td>Glass</td>\n",
       "      <td>Glass</td>\n",
       "      <td>...</td>\n",
       "      <td>NaN</td>\n",
       "      <td>NaN</td>\n",
       "      <td>NaN</td>\n",
       "      <td>NaN</td>\n",
       "      <td>NaN</td>\n",
       "      <td>NaN</td>\n",
       "      <td>NaN</td>\n",
       "      <td>L.: 3/8 in. (1 cm)\\r\\nDiam.:  15/16 in. (0.9 cm)</td>\n",
       "      <td>1 cm</td>\n",
       "      <td>1.0</td>\n",
       "    </tr>\n",
       "    <tr>\n",
       "      <th>...</th>\n",
       "      <td>...</td>\n",
       "      <td>...</td>\n",
       "      <td>...</td>\n",
       "      <td>...</td>\n",
       "      <td>...</td>\n",
       "      <td>...</td>\n",
       "      <td>...</td>\n",
       "      <td>...</td>\n",
       "      <td>...</td>\n",
       "      <td>...</td>\n",
       "      <td>...</td>\n",
       "      <td>...</td>\n",
       "      <td>...</td>\n",
       "      <td>...</td>\n",
       "      <td>...</td>\n",
       "      <td>...</td>\n",
       "      <td>...</td>\n",
       "      <td>...</td>\n",
       "      <td>...</td>\n",
       "      <td>...</td>\n",
       "      <td>...</td>\n",
       "    </tr>\n",
       "    <tr>\n",
       "      <th>33721</th>\n",
       "      <td>477397</td>\n",
       "      <td>854888</td>\n",
       "      <td>Greek and Roman Art</td>\n",
       "      <td>2021-01-01</td>\n",
       "      <td>sarcophagus</td>\n",
       "      <td>Sarcophagus</td>\n",
       "      <td>Roman</td>\n",
       "      <td>NaN</td>\n",
       "      <td>Marble</td>\n",
       "      <td>Stone Sculpture</td>\n",
       "      <td>...</td>\n",
       "      <td>NaN</td>\n",
       "      <td>NaN</td>\n",
       "      <td>NaN</td>\n",
       "      <td>NaN</td>\n",
       "      <td>NaN</td>\n",
       "      <td>NaN</td>\n",
       "      <td>NaN</td>\n",
       "      <td>Other: 44 × 84 × 40 in. (111.8 × 213.4 × 101.6...</td>\n",
       "      <td>111.8 × 213.4 × 101.6 cm</td>\n",
       "      <td>111.8</td>\n",
       "    </tr>\n",
       "    <tr>\n",
       "      <th>33722</th>\n",
       "      <td>478232</td>\n",
       "      <td>856618</td>\n",
       "      <td>Greek and Roman Art</td>\n",
       "      <td>2021-01-01</td>\n",
       "      <td>statuette</td>\n",
       "      <td>Statuette of a standing goddess</td>\n",
       "      <td>Greek, Boeotian</td>\n",
       "      <td>NaN</td>\n",
       "      <td>terracotta</td>\n",
       "      <td>Terracottas</td>\n",
       "      <td>...</td>\n",
       "      <td>NaN</td>\n",
       "      <td>NaN</td>\n",
       "      <td>NaN</td>\n",
       "      <td>NaN</td>\n",
       "      <td>NaN</td>\n",
       "      <td>NaN</td>\n",
       "      <td>NaN</td>\n",
       "      <td>9 × 3 3/8 × 1 1/4 in. (22.9 × 8.6 × 3.2 cm)</td>\n",
       "      <td>22.9 × 8.6 × 3.2 cm</td>\n",
       "      <td>22.9</td>\n",
       "    </tr>\n",
       "    <tr>\n",
       "      <th>33723</th>\n",
       "      <td>478595</td>\n",
       "      <td>857709</td>\n",
       "      <td>Greek and Roman Art</td>\n",
       "      <td>1874-01-01</td>\n",
       "      <td>Askos</td>\n",
       "      <td>Terracotta askos in the shape of a quadruped</td>\n",
       "      <td>Cypriot</td>\n",
       "      <td>Early Cypriot III–Middle Cypriot</td>\n",
       "      <td>Terracotta</td>\n",
       "      <td>Vases</td>\n",
       "      <td>...</td>\n",
       "      <td>NaN</td>\n",
       "      <td>NaN</td>\n",
       "      <td>NaN</td>\n",
       "      <td>NaN</td>\n",
       "      <td>NaN</td>\n",
       "      <td>NaN</td>\n",
       "      <td>NaN</td>\n",
       "      <td>2 5/8 × 1 1/2 × 3 3/4 in., 1.764oz. (6.7 × 3.8...</td>\n",
       "      <td>NaN</td>\n",
       "      <td>NaN</td>\n",
       "    </tr>\n",
       "    <tr>\n",
       "      <th>33724</th>\n",
       "      <td>478596</td>\n",
       "      <td>857715</td>\n",
       "      <td>Greek and Roman Art</td>\n",
       "      <td>1874-01-01</td>\n",
       "      <td>Askos</td>\n",
       "      <td>Terracotta askos in the shape of a water bird</td>\n",
       "      <td>Cypriot</td>\n",
       "      <td>Late Cypriot IIIB</td>\n",
       "      <td>Terracotta</td>\n",
       "      <td>Vases</td>\n",
       "      <td>...</td>\n",
       "      <td>[Birds]</td>\n",
       "      <td>[http://vocab.getty.edu/page/aat/300266506]</td>\n",
       "      <td>[https://www.wikidata.org/wiki/Q5113]</td>\n",
       "      <td>NaN</td>\n",
       "      <td>NaN</td>\n",
       "      <td>NaN</td>\n",
       "      <td>NaN</td>\n",
       "      <td>4 1/2 × 2 3/4 × 6 1/4 in., 5.114oz. (11.4 × 7 ...</td>\n",
       "      <td>NaN</td>\n",
       "      <td>NaN</td>\n",
       "    </tr>\n",
       "    <tr>\n",
       "      <th>33725</th>\n",
       "      <td>478597</td>\n",
       "      <td>857718</td>\n",
       "      <td>Greek and Roman Art</td>\n",
       "      <td>1874-01-01</td>\n",
       "      <td>Stirrup jar</td>\n",
       "      <td>Terracotta stirrup jar</td>\n",
       "      <td>Mycenaean</td>\n",
       "      <td>Late Helladic IIIA2</td>\n",
       "      <td>Terracotta</td>\n",
       "      <td>Vases</td>\n",
       "      <td>...</td>\n",
       "      <td>NaN</td>\n",
       "      <td>NaN</td>\n",
       "      <td>NaN</td>\n",
       "      <td>NaN</td>\n",
       "      <td>NaN</td>\n",
       "      <td>NaN</td>\n",
       "      <td>NaN</td>\n",
       "      <td>7 1/2 × 5 1/2 in., 16.753oz. (19.1 × 14 cm, 475g)</td>\n",
       "      <td>NaN</td>\n",
       "      <td>NaN</td>\n",
       "    </tr>\n",
       "  </tbody>\n",
       "</table>\n",
       "<p>33726 rows × 22 columns</p>\n",
       "</div>"
      ],
      "text/plain": [
       "        index  Object ID           Department AccessionYear  \\\n",
       "0      139012     239584  Greek and Roman Art    1870-01-01   \n",
       "1      139013     239585  Greek and Roman Art    1874-01-01   \n",
       "2      139014     239586  Greek and Roman Art    1874-01-01   \n",
       "3      139015     239587  Greek and Roman Art    1874-01-01   \n",
       "4      139016     239588  Greek and Roman Art    1874-01-01   \n",
       "...       ...        ...                  ...           ...   \n",
       "33721  477397     854888  Greek and Roman Art    2021-01-01   \n",
       "33722  478232     856618  Greek and Roman Art    2021-01-01   \n",
       "33723  478595     857709  Greek and Roman Art    1874-01-01   \n",
       "33724  478596     857715  Greek and Roman Art    1874-01-01   \n",
       "33725  478597     857718  Greek and Roman Art    1874-01-01   \n",
       "\n",
       "                         Object Name  \\\n",
       "0               Sarcophagus, garland   \n",
       "1      Pendant in the form of a vase   \n",
       "2                               Bead   \n",
       "3                     Perfume bottle   \n",
       "4                               Bead   \n",
       "...                              ...   \n",
       "33721                    sarcophagus   \n",
       "33722                      statuette   \n",
       "33723                          Askos   \n",
       "33724                          Askos   \n",
       "33725                    Stirrup jar   \n",
       "\n",
       "                                               Title              Culture  \\\n",
       "0                   Marble sarcophagus with garlands                Roman   \n",
       "1                      Pendant in the form of a vase                Greek   \n",
       "2                                         Glass bead                Greek   \n",
       "3                               Glass perfume bottle       Roman, Cypriot   \n",
       "4                                     Glass eye bead  Phoenician, Cypriot   \n",
       "...                                              ...                  ...   \n",
       "33721                                    Sarcophagus                Roman   \n",
       "33722                Statuette of a standing goddess      Greek, Boeotian   \n",
       "33723   Terracotta askos in the shape of a quadruped              Cypriot   \n",
       "33724  Terracotta askos in the shape of a water bird              Cypriot   \n",
       "33725                         Terracotta stirrup jar            Mycenaean   \n",
       "\n",
       "                                 Period                Medium  \\\n",
       "0                               Severan  Marble, Proconnesian   \n",
       "1                             Classical                  Gold   \n",
       "2                           Hellenistic                 Glass   \n",
       "3                          Mid Imperial                 Glass   \n",
       "4                  Archaic or Classical                 Glass   \n",
       "...                                 ...                   ...   \n",
       "33721                               NaN                Marble   \n",
       "33722                               NaN            terracotta   \n",
       "33723  Early Cypriot III–Middle Cypriot            Terracotta   \n",
       "33724                 Late Cypriot IIIB            Terracotta   \n",
       "33725               Late Helladic IIIA2            Terracotta   \n",
       "\n",
       "        Classification  ...                                  Tags  \\\n",
       "0      Stone Sculpture  ...  [Animals, Garlands, Hunting, Medusa]   \n",
       "1      Gold and Silver  ...                                   NaN   \n",
       "2                Glass  ...                                   NaN   \n",
       "3                Glass  ...                                   NaN   \n",
       "4                Glass  ...                                   NaN   \n",
       "...                ...  ...                                   ...   \n",
       "33721  Stone Sculpture  ...                                   NaN   \n",
       "33722      Terracottas  ...                                   NaN   \n",
       "33723            Vases  ...                                   NaN   \n",
       "33724            Vases  ...                               [Birds]   \n",
       "33725            Vases  ...                                   NaN   \n",
       "\n",
       "                                            Tags AAT URL  \\\n",
       "0      [http://vocab.getty.edu/page/aat/300249525, ht...   \n",
       "1                                                    NaN   \n",
       "2                                                    NaN   \n",
       "3                                                    NaN   \n",
       "4                                                    NaN   \n",
       "...                                                  ...   \n",
       "33721                                                NaN   \n",
       "33722                                                NaN   \n",
       "33723                                                NaN   \n",
       "33724        [http://vocab.getty.edu/page/aat/300266506]   \n",
       "33725                                                NaN   \n",
       "\n",
       "                                       Tags Wikidata URL Artist Display Name  \\\n",
       "0      [https://www.wikidata.org/wiki/Q729, https://w...                 NaN   \n",
       "1                                                    NaN                 NaN   \n",
       "2                                                    NaN                 NaN   \n",
       "3                                                    NaN                 NaN   \n",
       "4                                                    NaN                 NaN   \n",
       "...                                                  ...                 ...   \n",
       "33721                                                NaN                 NaN   \n",
       "33722                                                NaN                 NaN   \n",
       "33723                                                NaN                 NaN   \n",
       "33724              [https://www.wikidata.org/wiki/Q5113]                 NaN   \n",
       "33725                                                NaN                 NaN   \n",
       "\n",
       "      Artist Wikidata URL Artist ULAN URL Artist Nationality  \\\n",
       "0                     NaN             NaN                NaN   \n",
       "1                     NaN             NaN                NaN   \n",
       "2                     NaN             NaN                NaN   \n",
       "3                     NaN             NaN                NaN   \n",
       "4                     NaN             NaN                NaN   \n",
       "...                   ...             ...                ...   \n",
       "33721                 NaN             NaN                NaN   \n",
       "33722                 NaN             NaN                NaN   \n",
       "33723                 NaN             NaN                NaN   \n",
       "33724                 NaN             NaN                NaN   \n",
       "33725                 NaN             NaN                NaN   \n",
       "\n",
       "                                              Dimensions  \\\n",
       "0      Overall: 53 x 88in. (134.6 x 223.5cm)         ...   \n",
       "1                               Other: 9/16 in. (1.4 cm)   \n",
       "2         L.: 1 in. (2.4 cm)\\r\\nDiam.:  3/8 in. (1.0 cm)   \n",
       "3      6 5/8in. (16.8cm)\\r\\nOther: 3 5/8in. (9.2cm)\\r...   \n",
       "4       L.: 3/8 in. (1 cm)\\r\\nDiam.:  15/16 in. (0.9 cm)   \n",
       "...                                                  ...   \n",
       "33721  Other: 44 × 84 × 40 in. (111.8 × 213.4 × 101.6...   \n",
       "33722        9 × 3 3/8 × 1 1/4 in. (22.9 × 8.6 × 3.2 cm)   \n",
       "33723  2 5/8 × 1 1/2 × 3 3/4 in., 1.764oz. (6.7 × 3.8...   \n",
       "33724  4 1/2 × 2 3/4 × 6 1/4 in., 5.114oz. (11.4 × 7 ...   \n",
       "33725  7 1/2 × 5 1/2 in., 16.753oz. (19.1 × 14 cm, 475g)   \n",
       "\n",
       "                   first_cm_raw cm_value  \n",
       "0               134.6 x 223.5cm      NaN  \n",
       "1                        1.4 cm      1.4  \n",
       "2                        2.4 cm      2.4  \n",
       "3                        16.8cm     16.8  \n",
       "4                          1 cm      1.0  \n",
       "...                         ...      ...  \n",
       "33721  111.8 × 213.4 × 101.6 cm    111.8  \n",
       "33722       22.9 × 8.6 × 3.2 cm     22.9  \n",
       "33723                       NaN      NaN  \n",
       "33724                       NaN      NaN  \n",
       "33725                       NaN      NaN  \n",
       "\n",
       "[33726 rows x 22 columns]"
      ]
     },
     "execution_count": 30,
     "metadata": {},
     "output_type": "execute_result"
    }
   ],
   "source": [
    "selected.reset_index()"
   ]
  },
  {
   "cell_type": "code",
   "execution_count": 34,
   "id": "492706b5",
   "metadata": {},
   "outputs": [],
   "source": [
    "selected.to_csv(\"C:\\\\Projects\\\\ACTHProject\\\\ACTHProject\\\\MetObjects_Cleaned.csv\", index=True)"
   ]
  }
 ],
 "metadata": {
  "kernelspec": {
   "display_name": ".venv",
   "language": "python",
   "name": "python3"
  },
  "language_info": {
   "codemirror_mode": {
    "name": "ipython",
    "version": 3
   },
   "file_extension": ".py",
   "mimetype": "text/x-python",
   "name": "python",
   "nbconvert_exporter": "python",
   "pygments_lexer": "ipython3",
   "version": "3.12.10"
  }
 },
 "nbformat": 4,
 "nbformat_minor": 5
}
