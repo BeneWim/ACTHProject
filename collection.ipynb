{
  "nbformat": 4,
  "nbformat_minor": 0,
  "metadata": {
    "colab": {
      "provenance": [],
      "authorship_tag": "ABX9TyPjxdNBFySslI2JJE6S8NrK",
      "include_colab_link": true
    },
    "kernelspec": {
      "name": "python3",
      "display_name": "Python 3"
    },
    "language_info": {
      "name": "python"
    }
  },
  "cells": [
    {
      "cell_type": "markdown",
      "metadata": {
        "id": "view-in-github",
        "colab_type": "text"
      },
      "source": [
        "<a href=\"https://colab.research.google.com/github/BeneWim/ACTHProject/blob/Moritz/collection.ipynb\" target=\"_parent\"><img src=\"https://colab.research.google.com/assets/colab-badge.svg\" alt=\"Open In Colab\"/></a>"
      ]
    },
    {
      "cell_type": "code",
      "execution_count": null,
      "metadata": {
        "id": "_R7y7tVAGJE7"
      },
      "outputs": [],
      "source": [
        "import pandas as pd\n",
        "import spacy\n",
        "import json\n",
        "import requests\n",
        "\n",
        "from Artifact import Artifact\n",
        "from Artist import Artist\n",
        "\n",
        "\n",
        "class Collection:\n",
        "    def __init__(self, name):\n",
        "        self.name = name\n",
        "\n",
        "        self.artists = []  # List of Artist objects\n",
        "        self.artifacts = []  # List of Artifact objects\n",
        "\n",
        "    def add_artifact(self, artifact: Artifact):\n",
        "        if not isinstance(artifact, Artifact):\n",
        "            raise TypeError(\"Expected an instance of Artifact\")\n",
        "\n",
        "        self.artifacts.append(artifact)\n",
        "\n",
        "    def add_artist(self, artist: Artist):\n",
        "        if not isinstance(artist, Artist):\n",
        "            raise TypeError(\"Expected an instance of Artist\")\n",
        "\n",
        "        self.artists.append(artist)\n",
        "\n",
        "    def to_rdf(self):\n",
        "        # returns an rdflib.Graph with all RDF triples from the collection –\n",
        "        # artifacts and their creators must be linked!\n",
        "        # **Not every single attribute needs to be represented in RDF, keep it simple as a proof of concept**\n",
        "\n",
        "        pass\n",
        "\n",
        "    def visualize_metadata(self):\n",
        "        # generates visualizations from the raw dataset (e.g. pie charts, bar charts) up to you which ones\n",
        "\n",
        "        pass\n",
        "\n",
        "    def visualize_rdf(self):\n",
        "        # generates RDF visualizations\n",
        "\n",
        "        pass\n",
        "\n",
        "    def cross_api_enrich(self):\n",
        "        # finds additional works by the artists in the collection from the AIC or Cleveland API,\n",
        "        # adds the items to the collection (with the metadata that they have from the APIs,\n",
        "        # so you should consider about their metadata as well when you create attributes.\n",
        "        # Remember you can put default attributes as None for things that are not shared between the APIs\n",
        "\n",
        "        pass\n"
      ]
    }
  ]
}